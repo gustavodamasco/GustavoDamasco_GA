{
 "cells": [
  {
   "cell_type": "code",
   "execution_count": 46,
   "metadata": {
    "collapsed": true
   },
   "outputs": [],
   "source": [
    "import pandas as pd\n",
    "import numpy as np\n",
    "\n",
    "import seaborn as sn\n",
    "\n",
    "%matplotlib inline"
   ]
  },
  {
   "cell_type": "code",
   "execution_count": 47,
   "metadata": {
    "collapsed": true
   },
   "outputs": [],
   "source": [
    "df = pd.read_csv(\"/Users/Gustavodamasco/Desktop/Datasets/Spending_habits/Responses.csv\")"
   ]
  },
  {
   "cell_type": "code",
   "execution_count": 48,
   "metadata": {},
   "outputs": [
    {
     "data": {
      "text/plain": [
       "pandas.core.frame.DataFrame"
      ]
     },
     "execution_count": 48,
     "metadata": {},
     "output_type": "execute_result"
    }
   ],
   "source": [
    "type(df)"
   ]
  },
  {
   "cell_type": "code",
   "execution_count": 49,
   "metadata": {},
   "outputs": [
    {
     "data": {
      "text/html": [
       "<div>\n",
       "<style>\n",
       "    .dataframe thead tr:only-child th {\n",
       "        text-align: right;\n",
       "    }\n",
       "\n",
       "    .dataframe thead th {\n",
       "        text-align: left;\n",
       "    }\n",
       "\n",
       "    .dataframe tbody tr th {\n",
       "        vertical-align: top;\n",
       "    }\n",
       "</style>\n",
       "<table border=\"1\" class=\"dataframe\">\n",
       "  <thead>\n",
       "    <tr style=\"text-align: right;\">\n",
       "      <th></th>\n",
       "      <th>Music</th>\n",
       "      <th>Slow songs or fast songs</th>\n",
       "      <th>Dance</th>\n",
       "      <th>Folk</th>\n",
       "      <th>Country</th>\n",
       "      <th>Classical music</th>\n",
       "      <th>Musical</th>\n",
       "      <th>Pop</th>\n",
       "      <th>Rock</th>\n",
       "      <th>Metal or Hardrock</th>\n",
       "      <th>...</th>\n",
       "      <th>Age</th>\n",
       "      <th>Height</th>\n",
       "      <th>Weight</th>\n",
       "      <th>Number of siblings</th>\n",
       "      <th>Gender</th>\n",
       "      <th>Left - right handed</th>\n",
       "      <th>Education</th>\n",
       "      <th>Only child</th>\n",
       "      <th>Village - town</th>\n",
       "      <th>House - block of flats</th>\n",
       "    </tr>\n",
       "  </thead>\n",
       "  <tbody>\n",
       "    <tr>\n",
       "      <th>0</th>\n",
       "      <td>5.0</td>\n",
       "      <td>3.0</td>\n",
       "      <td>2.0</td>\n",
       "      <td>1.0</td>\n",
       "      <td>2.0</td>\n",
       "      <td>2.0</td>\n",
       "      <td>1.0</td>\n",
       "      <td>5.0</td>\n",
       "      <td>5.0</td>\n",
       "      <td>1.0</td>\n",
       "      <td>...</td>\n",
       "      <td>20.0</td>\n",
       "      <td>163.0</td>\n",
       "      <td>48.0</td>\n",
       "      <td>1.0</td>\n",
       "      <td>female</td>\n",
       "      <td>right handed</td>\n",
       "      <td>college/bachelor degree</td>\n",
       "      <td>no</td>\n",
       "      <td>village</td>\n",
       "      <td>block of flats</td>\n",
       "    </tr>\n",
       "    <tr>\n",
       "      <th>1</th>\n",
       "      <td>4.0</td>\n",
       "      <td>4.0</td>\n",
       "      <td>2.0</td>\n",
       "      <td>1.0</td>\n",
       "      <td>1.0</td>\n",
       "      <td>1.0</td>\n",
       "      <td>2.0</td>\n",
       "      <td>3.0</td>\n",
       "      <td>5.0</td>\n",
       "      <td>4.0</td>\n",
       "      <td>...</td>\n",
       "      <td>19.0</td>\n",
       "      <td>163.0</td>\n",
       "      <td>58.0</td>\n",
       "      <td>2.0</td>\n",
       "      <td>female</td>\n",
       "      <td>right handed</td>\n",
       "      <td>college/bachelor degree</td>\n",
       "      <td>no</td>\n",
       "      <td>city</td>\n",
       "      <td>block of flats</td>\n",
       "    </tr>\n",
       "    <tr>\n",
       "      <th>2</th>\n",
       "      <td>5.0</td>\n",
       "      <td>5.0</td>\n",
       "      <td>2.0</td>\n",
       "      <td>2.0</td>\n",
       "      <td>3.0</td>\n",
       "      <td>4.0</td>\n",
       "      <td>5.0</td>\n",
       "      <td>3.0</td>\n",
       "      <td>5.0</td>\n",
       "      <td>3.0</td>\n",
       "      <td>...</td>\n",
       "      <td>20.0</td>\n",
       "      <td>176.0</td>\n",
       "      <td>67.0</td>\n",
       "      <td>2.0</td>\n",
       "      <td>female</td>\n",
       "      <td>right handed</td>\n",
       "      <td>secondary school</td>\n",
       "      <td>no</td>\n",
       "      <td>city</td>\n",
       "      <td>block of flats</td>\n",
       "    </tr>\n",
       "    <tr>\n",
       "      <th>3</th>\n",
       "      <td>5.0</td>\n",
       "      <td>3.0</td>\n",
       "      <td>2.0</td>\n",
       "      <td>1.0</td>\n",
       "      <td>1.0</td>\n",
       "      <td>1.0</td>\n",
       "      <td>1.0</td>\n",
       "      <td>2.0</td>\n",
       "      <td>2.0</td>\n",
       "      <td>1.0</td>\n",
       "      <td>...</td>\n",
       "      <td>22.0</td>\n",
       "      <td>172.0</td>\n",
       "      <td>59.0</td>\n",
       "      <td>1.0</td>\n",
       "      <td>female</td>\n",
       "      <td>right handed</td>\n",
       "      <td>college/bachelor degree</td>\n",
       "      <td>yes</td>\n",
       "      <td>city</td>\n",
       "      <td>house/bungalow</td>\n",
       "    </tr>\n",
       "    <tr>\n",
       "      <th>4</th>\n",
       "      <td>5.0</td>\n",
       "      <td>3.0</td>\n",
       "      <td>4.0</td>\n",
       "      <td>3.0</td>\n",
       "      <td>2.0</td>\n",
       "      <td>4.0</td>\n",
       "      <td>3.0</td>\n",
       "      <td>5.0</td>\n",
       "      <td>3.0</td>\n",
       "      <td>1.0</td>\n",
       "      <td>...</td>\n",
       "      <td>20.0</td>\n",
       "      <td>170.0</td>\n",
       "      <td>59.0</td>\n",
       "      <td>1.0</td>\n",
       "      <td>female</td>\n",
       "      <td>right handed</td>\n",
       "      <td>secondary school</td>\n",
       "      <td>no</td>\n",
       "      <td>village</td>\n",
       "      <td>house/bungalow</td>\n",
       "    </tr>\n",
       "  </tbody>\n",
       "</table>\n",
       "<p>5 rows × 150 columns</p>\n",
       "</div>"
      ],
      "text/plain": [
       "   Music  Slow songs or fast songs  Dance  Folk  Country  Classical music  \\\n",
       "0    5.0                       3.0    2.0   1.0      2.0              2.0   \n",
       "1    4.0                       4.0    2.0   1.0      1.0              1.0   \n",
       "2    5.0                       5.0    2.0   2.0      3.0              4.0   \n",
       "3    5.0                       3.0    2.0   1.0      1.0              1.0   \n",
       "4    5.0                       3.0    4.0   3.0      2.0              4.0   \n",
       "\n",
       "   Musical  Pop  Rock  Metal or Hardrock           ...             Age  \\\n",
       "0      1.0  5.0   5.0                1.0           ...            20.0   \n",
       "1      2.0  3.0   5.0                4.0           ...            19.0   \n",
       "2      5.0  3.0   5.0                3.0           ...            20.0   \n",
       "3      1.0  2.0   2.0                1.0           ...            22.0   \n",
       "4      3.0  5.0   3.0                1.0           ...            20.0   \n",
       "\n",
       "   Height  Weight  Number of siblings  Gender  Left - right handed  \\\n",
       "0   163.0    48.0                 1.0  female         right handed   \n",
       "1   163.0    58.0                 2.0  female         right handed   \n",
       "2   176.0    67.0                 2.0  female         right handed   \n",
       "3   172.0    59.0                 1.0  female         right handed   \n",
       "4   170.0    59.0                 1.0  female         right handed   \n",
       "\n",
       "                 Education  Only child  Village - town  House - block of flats  \n",
       "0  college/bachelor degree          no         village          block of flats  \n",
       "1  college/bachelor degree          no            city          block of flats  \n",
       "2         secondary school          no            city          block of flats  \n",
       "3  college/bachelor degree         yes            city          house/bungalow  \n",
       "4         secondary school          no         village          house/bungalow  \n",
       "\n",
       "[5 rows x 150 columns]"
      ]
     },
     "execution_count": 49,
     "metadata": {},
     "output_type": "execute_result"
    }
   ],
   "source": [
    "df.head()"
   ]
  },
  {
   "cell_type": "code",
   "execution_count": 50,
   "metadata": {},
   "outputs": [
    {
     "data": {
      "text/plain": [
       "(1010, 150)"
      ]
     },
     "execution_count": 50,
     "metadata": {},
     "output_type": "execute_result"
    }
   ],
   "source": [
    "df.shape"
   ]
  },
  {
   "cell_type": "code",
   "execution_count": 51,
   "metadata": {
    "collapsed": true
   },
   "outputs": [],
   "source": [
    "df_spending = df.iloc[:, 133]"
   ]
  },
  {
   "cell_type": "code",
   "execution_count": 52,
   "metadata": {},
   "outputs": [
    {
     "data": {
      "text/plain": [
       "pandas.core.series.Series"
      ]
     },
     "execution_count": 52,
     "metadata": {},
     "output_type": "execute_result"
    }
   ],
   "source": [
    "type(df_spending)"
   ]
  },
  {
   "cell_type": "code",
   "execution_count": 53,
   "metadata": {},
   "outputs": [
    {
     "data": {
      "text/plain": [
       "(1010,)"
      ]
     },
     "execution_count": 53,
     "metadata": {},
     "output_type": "execute_result"
    }
   ],
   "source": [
    "df_spending.shape"
   ]
  },
  {
   "cell_type": "code",
   "execution_count": 54,
   "metadata": {
    "collapsed": true
   },
   "outputs": [],
   "source": [
    "df_personality = df.iloc[:, 76:133]"
   ]
  },
  {
   "cell_type": "code",
   "execution_count": 55,
   "metadata": {},
   "outputs": [
    {
     "data": {
      "text/plain": [
       "pandas.core.frame.DataFrame"
      ]
     },
     "execution_count": 55,
     "metadata": {},
     "output_type": "execute_result"
    }
   ],
   "source": [
    "type(df_personality)"
   ]
  },
  {
   "cell_type": "code",
   "execution_count": 56,
   "metadata": {},
   "outputs": [
    {
     "data": {
      "text/plain": [
       "(1010, 57)"
      ]
     },
     "execution_count": 56,
     "metadata": {},
     "output_type": "execute_result"
    }
   ],
   "source": [
    "df_personality.shape"
   ]
  },
  {
   "cell_type": "code",
   "execution_count": 57,
   "metadata": {
    "collapsed": true
   },
   "outputs": [],
   "source": [
    "df_data = pd.concat((df_personality, df_spending), axis=1).dropna()"
   ]
  },
  {
   "cell_type": "code",
   "execution_count": 58,
   "metadata": {},
   "outputs": [
    {
     "data": {
      "text/plain": [
       "pandas.core.frame.DataFrame"
      ]
     },
     "execution_count": 58,
     "metadata": {},
     "output_type": "execute_result"
    }
   ],
   "source": [
    "type(df_data)"
   ]
  },
  {
   "cell_type": "code",
   "execution_count": 59,
   "metadata": {},
   "outputs": [
    {
     "data": {
      "text/plain": [
       "(862, 58)"
      ]
     },
     "execution_count": 59,
     "metadata": {},
     "output_type": "execute_result"
    }
   ],
   "source": [
    "df_data.shape"
   ]
  },
  {
   "cell_type": "code",
   "execution_count": 60,
   "metadata": {},
   "outputs": [
    {
     "data": {
      "text/html": [
       "<div>\n",
       "<style>\n",
       "    .dataframe thead tr:only-child th {\n",
       "        text-align: right;\n",
       "    }\n",
       "\n",
       "    .dataframe thead th {\n",
       "        text-align: left;\n",
       "    }\n",
       "\n",
       "    .dataframe tbody tr th {\n",
       "        vertical-align: top;\n",
       "    }\n",
       "</style>\n",
       "<table border=\"1\" class=\"dataframe\">\n",
       "  <thead>\n",
       "    <tr style=\"text-align: right;\">\n",
       "      <th></th>\n",
       "      <th>Daily events</th>\n",
       "      <th>Prioritising workload</th>\n",
       "      <th>Writing notes</th>\n",
       "      <th>Workaholism</th>\n",
       "      <th>Thinking ahead</th>\n",
       "      <th>Final judgement</th>\n",
       "      <th>Reliability</th>\n",
       "      <th>Keeping promises</th>\n",
       "      <th>Loss of interest</th>\n",
       "      <th>Friends versus money</th>\n",
       "      <th>...</th>\n",
       "      <th>Energy levels</th>\n",
       "      <th>Small - big dogs</th>\n",
       "      <th>Personality</th>\n",
       "      <th>Finding lost valuables</th>\n",
       "      <th>Getting up</th>\n",
       "      <th>Interests or hobbies</th>\n",
       "      <th>Parents' advice</th>\n",
       "      <th>Questionnaires or polls</th>\n",
       "      <th>Internet usage</th>\n",
       "      <th>Finances</th>\n",
       "    </tr>\n",
       "  </thead>\n",
       "  <tbody>\n",
       "    <tr>\n",
       "      <th>0</th>\n",
       "      <td>2.0</td>\n",
       "      <td>2.0</td>\n",
       "      <td>5.0</td>\n",
       "      <td>4.0</td>\n",
       "      <td>2.0</td>\n",
       "      <td>5.0</td>\n",
       "      <td>4.0</td>\n",
       "      <td>4.0</td>\n",
       "      <td>1.0</td>\n",
       "      <td>3.0</td>\n",
       "      <td>...</td>\n",
       "      <td>5.0</td>\n",
       "      <td>1.0</td>\n",
       "      <td>4.0</td>\n",
       "      <td>3.0</td>\n",
       "      <td>2.0</td>\n",
       "      <td>3.0</td>\n",
       "      <td>4.0</td>\n",
       "      <td>3.0</td>\n",
       "      <td>few hours a day</td>\n",
       "      <td>3.0</td>\n",
       "    </tr>\n",
       "    <tr>\n",
       "      <th>1</th>\n",
       "      <td>3.0</td>\n",
       "      <td>2.0</td>\n",
       "      <td>4.0</td>\n",
       "      <td>5.0</td>\n",
       "      <td>4.0</td>\n",
       "      <td>1.0</td>\n",
       "      <td>4.0</td>\n",
       "      <td>4.0</td>\n",
       "      <td>3.0</td>\n",
       "      <td>4.0</td>\n",
       "      <td>...</td>\n",
       "      <td>3.0</td>\n",
       "      <td>5.0</td>\n",
       "      <td>3.0</td>\n",
       "      <td>4.0</td>\n",
       "      <td>5.0</td>\n",
       "      <td>3.0</td>\n",
       "      <td>2.0</td>\n",
       "      <td>3.0</td>\n",
       "      <td>few hours a day</td>\n",
       "      <td>3.0</td>\n",
       "    </tr>\n",
       "    <tr>\n",
       "      <th>2</th>\n",
       "      <td>1.0</td>\n",
       "      <td>2.0</td>\n",
       "      <td>5.0</td>\n",
       "      <td>3.0</td>\n",
       "      <td>5.0</td>\n",
       "      <td>3.0</td>\n",
       "      <td>4.0</td>\n",
       "      <td>5.0</td>\n",
       "      <td>1.0</td>\n",
       "      <td>5.0</td>\n",
       "      <td>...</td>\n",
       "      <td>4.0</td>\n",
       "      <td>3.0</td>\n",
       "      <td>3.0</td>\n",
       "      <td>3.0</td>\n",
       "      <td>4.0</td>\n",
       "      <td>5.0</td>\n",
       "      <td>3.0</td>\n",
       "      <td>1.0</td>\n",
       "      <td>few hours a day</td>\n",
       "      <td>2.0</td>\n",
       "    </tr>\n",
       "    <tr>\n",
       "      <th>4</th>\n",
       "      <td>3.0</td>\n",
       "      <td>1.0</td>\n",
       "      <td>2.0</td>\n",
       "      <td>3.0</td>\n",
       "      <td>5.0</td>\n",
       "      <td>5.0</td>\n",
       "      <td>5.0</td>\n",
       "      <td>4.0</td>\n",
       "      <td>2.0</td>\n",
       "      <td>3.0</td>\n",
       "      <td>...</td>\n",
       "      <td>5.0</td>\n",
       "      <td>3.0</td>\n",
       "      <td>3.0</td>\n",
       "      <td>2.0</td>\n",
       "      <td>4.0</td>\n",
       "      <td>3.0</td>\n",
       "      <td>3.0</td>\n",
       "      <td>3.0</td>\n",
       "      <td>few hours a day</td>\n",
       "      <td>4.0</td>\n",
       "    </tr>\n",
       "    <tr>\n",
       "      <th>5</th>\n",
       "      <td>2.0</td>\n",
       "      <td>2.0</td>\n",
       "      <td>3.0</td>\n",
       "      <td>3.0</td>\n",
       "      <td>3.0</td>\n",
       "      <td>1.0</td>\n",
       "      <td>3.0</td>\n",
       "      <td>4.0</td>\n",
       "      <td>3.0</td>\n",
       "      <td>2.0</td>\n",
       "      <td>...</td>\n",
       "      <td>4.0</td>\n",
       "      <td>4.0</td>\n",
       "      <td>3.0</td>\n",
       "      <td>3.0</td>\n",
       "      <td>3.0</td>\n",
       "      <td>5.0</td>\n",
       "      <td>3.0</td>\n",
       "      <td>4.0</td>\n",
       "      <td>few hours a day</td>\n",
       "      <td>2.0</td>\n",
       "    </tr>\n",
       "  </tbody>\n",
       "</table>\n",
       "<p>5 rows × 58 columns</p>\n",
       "</div>"
      ],
      "text/plain": [
       "   Daily events  Prioritising workload  Writing notes  Workaholism  \\\n",
       "0           2.0                    2.0            5.0          4.0   \n",
       "1           3.0                    2.0            4.0          5.0   \n",
       "2           1.0                    2.0            5.0          3.0   \n",
       "4           3.0                    1.0            2.0          3.0   \n",
       "5           2.0                    2.0            3.0          3.0   \n",
       "\n",
       "   Thinking ahead  Final judgement  Reliability  Keeping promises  \\\n",
       "0             2.0              5.0          4.0               4.0   \n",
       "1             4.0              1.0          4.0               4.0   \n",
       "2             5.0              3.0          4.0               5.0   \n",
       "4             5.0              5.0          5.0               4.0   \n",
       "5             3.0              1.0          3.0               4.0   \n",
       "\n",
       "   Loss of interest  Friends versus money    ...     Energy levels  \\\n",
       "0               1.0                   3.0    ...               5.0   \n",
       "1               3.0                   4.0    ...               3.0   \n",
       "2               1.0                   5.0    ...               4.0   \n",
       "4               2.0                   3.0    ...               5.0   \n",
       "5               3.0                   2.0    ...               4.0   \n",
       "\n",
       "   Small - big dogs  Personality  Finding lost valuables  Getting up  \\\n",
       "0               1.0          4.0                     3.0         2.0   \n",
       "1               5.0          3.0                     4.0         5.0   \n",
       "2               3.0          3.0                     3.0         4.0   \n",
       "4               3.0          3.0                     2.0         4.0   \n",
       "5               4.0          3.0                     3.0         3.0   \n",
       "\n",
       "   Interests or hobbies  Parents' advice  Questionnaires or polls  \\\n",
       "0                   3.0              4.0                      3.0   \n",
       "1                   3.0              2.0                      3.0   \n",
       "2                   5.0              3.0                      1.0   \n",
       "4                   3.0              3.0                      3.0   \n",
       "5                   5.0              3.0                      4.0   \n",
       "\n",
       "    Internet usage  Finances  \n",
       "0  few hours a day       3.0  \n",
       "1  few hours a day       3.0  \n",
       "2  few hours a day       2.0  \n",
       "4  few hours a day       4.0  \n",
       "5  few hours a day       2.0  \n",
       "\n",
       "[5 rows x 58 columns]"
      ]
     },
     "execution_count": 60,
     "metadata": {},
     "output_type": "execute_result"
    }
   ],
   "source": [
    "df_data.head()"
   ]
  },
  {
   "cell_type": "code",
   "execution_count": 61,
   "metadata": {},
   "outputs": [
    {
     "data": {
      "text/html": [
       "<div>\n",
       "<style>\n",
       "    .dataframe thead tr:only-child th {\n",
       "        text-align: right;\n",
       "    }\n",
       "\n",
       "    .dataframe thead th {\n",
       "        text-align: left;\n",
       "    }\n",
       "\n",
       "    .dataframe tbody tr th {\n",
       "        vertical-align: top;\n",
       "    }\n",
       "</style>\n",
       "<table border=\"1\" class=\"dataframe\">\n",
       "  <thead>\n",
       "    <tr style=\"text-align: right;\">\n",
       "      <th></th>\n",
       "      <th>Daily events</th>\n",
       "      <th>Prioritising workload</th>\n",
       "      <th>Writing notes</th>\n",
       "      <th>Workaholism</th>\n",
       "      <th>Thinking ahead</th>\n",
       "      <th>Final judgement</th>\n",
       "      <th>Reliability</th>\n",
       "      <th>Keeping promises</th>\n",
       "      <th>Loss of interest</th>\n",
       "      <th>Friends versus money</th>\n",
       "      <th>...</th>\n",
       "      <th>Happiness in life</th>\n",
       "      <th>Energy levels</th>\n",
       "      <th>Small - big dogs</th>\n",
       "      <th>Personality</th>\n",
       "      <th>Finding lost valuables</th>\n",
       "      <th>Getting up</th>\n",
       "      <th>Interests or hobbies</th>\n",
       "      <th>Parents' advice</th>\n",
       "      <th>Questionnaires or polls</th>\n",
       "      <th>Finances</th>\n",
       "    </tr>\n",
       "  </thead>\n",
       "  <tbody>\n",
       "    <tr>\n",
       "      <th>count</th>\n",
       "      <td>862.000000</td>\n",
       "      <td>862.000000</td>\n",
       "      <td>862.000000</td>\n",
       "      <td>862.000000</td>\n",
       "      <td>862.000000</td>\n",
       "      <td>862.000000</td>\n",
       "      <td>862.000000</td>\n",
       "      <td>862.000000</td>\n",
       "      <td>862.000000</td>\n",
       "      <td>862.000000</td>\n",
       "      <td>...</td>\n",
       "      <td>862.000000</td>\n",
       "      <td>862.000000</td>\n",
       "      <td>862.000000</td>\n",
       "      <td>862.000000</td>\n",
       "      <td>862.000000</td>\n",
       "      <td>862.000000</td>\n",
       "      <td>862.000000</td>\n",
       "      <td>862.000000</td>\n",
       "      <td>862.000000</td>\n",
       "      <td>862.000000</td>\n",
       "    </tr>\n",
       "    <tr>\n",
       "      <th>mean</th>\n",
       "      <td>3.067285</td>\n",
       "      <td>2.633411</td>\n",
       "      <td>3.078886</td>\n",
       "      <td>3.001160</td>\n",
       "      <td>3.440835</td>\n",
       "      <td>2.611369</td>\n",
       "      <td>3.857309</td>\n",
       "      <td>4.001160</td>\n",
       "      <td>2.653132</td>\n",
       "      <td>3.790023</td>\n",
       "      <td>...</td>\n",
       "      <td>3.694896</td>\n",
       "      <td>3.619490</td>\n",
       "      <td>2.969838</td>\n",
       "      <td>3.281903</td>\n",
       "      <td>2.849188</td>\n",
       "      <td>3.613689</td>\n",
       "      <td>3.535963</td>\n",
       "      <td>3.270302</td>\n",
       "      <td>2.772622</td>\n",
       "      <td>3.040603</td>\n",
       "    </tr>\n",
       "    <tr>\n",
       "      <th>std</th>\n",
       "      <td>1.132406</td>\n",
       "      <td>1.226004</td>\n",
       "      <td>1.417755</td>\n",
       "      <td>1.280153</td>\n",
       "      <td>1.129523</td>\n",
       "      <td>1.371185</td>\n",
       "      <td>0.939178</td>\n",
       "      <td>0.884109</td>\n",
       "      <td>1.344014</td>\n",
       "      <td>1.105889</td>\n",
       "      <td>...</td>\n",
       "      <td>0.829730</td>\n",
       "      <td>1.000112</td>\n",
       "      <td>1.213176</td>\n",
       "      <td>0.639848</td>\n",
       "      <td>1.243984</td>\n",
       "      <td>1.305024</td>\n",
       "      <td>1.177797</td>\n",
       "      <td>0.855412</td>\n",
       "      <td>1.083845</td>\n",
       "      <td>1.143369</td>\n",
       "    </tr>\n",
       "    <tr>\n",
       "      <th>min</th>\n",
       "      <td>1.000000</td>\n",
       "      <td>1.000000</td>\n",
       "      <td>1.000000</td>\n",
       "      <td>1.000000</td>\n",
       "      <td>1.000000</td>\n",
       "      <td>1.000000</td>\n",
       "      <td>1.000000</td>\n",
       "      <td>1.000000</td>\n",
       "      <td>1.000000</td>\n",
       "      <td>1.000000</td>\n",
       "      <td>...</td>\n",
       "      <td>1.000000</td>\n",
       "      <td>1.000000</td>\n",
       "      <td>1.000000</td>\n",
       "      <td>1.000000</td>\n",
       "      <td>1.000000</td>\n",
       "      <td>1.000000</td>\n",
       "      <td>1.000000</td>\n",
       "      <td>1.000000</td>\n",
       "      <td>1.000000</td>\n",
       "      <td>1.000000</td>\n",
       "    </tr>\n",
       "    <tr>\n",
       "      <th>25%</th>\n",
       "      <td>2.000000</td>\n",
       "      <td>2.000000</td>\n",
       "      <td>2.000000</td>\n",
       "      <td>2.000000</td>\n",
       "      <td>3.000000</td>\n",
       "      <td>1.000000</td>\n",
       "      <td>3.000000</td>\n",
       "      <td>3.000000</td>\n",
       "      <td>1.000000</td>\n",
       "      <td>3.000000</td>\n",
       "      <td>...</td>\n",
       "      <td>3.000000</td>\n",
       "      <td>3.000000</td>\n",
       "      <td>2.000000</td>\n",
       "      <td>3.000000</td>\n",
       "      <td>2.000000</td>\n",
       "      <td>3.000000</td>\n",
       "      <td>3.000000</td>\n",
       "      <td>3.000000</td>\n",
       "      <td>2.000000</td>\n",
       "      <td>2.000000</td>\n",
       "    </tr>\n",
       "    <tr>\n",
       "      <th>50%</th>\n",
       "      <td>3.000000</td>\n",
       "      <td>3.000000</td>\n",
       "      <td>3.000000</td>\n",
       "      <td>3.000000</td>\n",
       "      <td>3.000000</td>\n",
       "      <td>3.000000</td>\n",
       "      <td>4.000000</td>\n",
       "      <td>4.000000</td>\n",
       "      <td>3.000000</td>\n",
       "      <td>4.000000</td>\n",
       "      <td>...</td>\n",
       "      <td>4.000000</td>\n",
       "      <td>4.000000</td>\n",
       "      <td>3.000000</td>\n",
       "      <td>3.000000</td>\n",
       "      <td>3.000000</td>\n",
       "      <td>4.000000</td>\n",
       "      <td>4.000000</td>\n",
       "      <td>3.000000</td>\n",
       "      <td>3.000000</td>\n",
       "      <td>3.000000</td>\n",
       "    </tr>\n",
       "    <tr>\n",
       "      <th>75%</th>\n",
       "      <td>4.000000</td>\n",
       "      <td>3.000000</td>\n",
       "      <td>4.000000</td>\n",
       "      <td>4.000000</td>\n",
       "      <td>4.000000</td>\n",
       "      <td>3.000000</td>\n",
       "      <td>5.000000</td>\n",
       "      <td>5.000000</td>\n",
       "      <td>4.000000</td>\n",
       "      <td>5.000000</td>\n",
       "      <td>...</td>\n",
       "      <td>4.000000</td>\n",
       "      <td>4.000000</td>\n",
       "      <td>4.000000</td>\n",
       "      <td>4.000000</td>\n",
       "      <td>4.000000</td>\n",
       "      <td>5.000000</td>\n",
       "      <td>5.000000</td>\n",
       "      <td>4.000000</td>\n",
       "      <td>3.000000</td>\n",
       "      <td>4.000000</td>\n",
       "    </tr>\n",
       "    <tr>\n",
       "      <th>max</th>\n",
       "      <td>5.000000</td>\n",
       "      <td>5.000000</td>\n",
       "      <td>5.000000</td>\n",
       "      <td>5.000000</td>\n",
       "      <td>5.000000</td>\n",
       "      <td>5.000000</td>\n",
       "      <td>5.000000</td>\n",
       "      <td>5.000000</td>\n",
       "      <td>5.000000</td>\n",
       "      <td>5.000000</td>\n",
       "      <td>...</td>\n",
       "      <td>5.000000</td>\n",
       "      <td>5.000000</td>\n",
       "      <td>5.000000</td>\n",
       "      <td>5.000000</td>\n",
       "      <td>5.000000</td>\n",
       "      <td>5.000000</td>\n",
       "      <td>5.000000</td>\n",
       "      <td>5.000000</td>\n",
       "      <td>5.000000</td>\n",
       "      <td>5.000000</td>\n",
       "    </tr>\n",
       "  </tbody>\n",
       "</table>\n",
       "<p>8 rows × 55 columns</p>\n",
       "</div>"
      ],
      "text/plain": [
       "       Daily events  Prioritising workload  Writing notes  Workaholism  \\\n",
       "count    862.000000             862.000000     862.000000   862.000000   \n",
       "mean       3.067285               2.633411       3.078886     3.001160   \n",
       "std        1.132406               1.226004       1.417755     1.280153   \n",
       "min        1.000000               1.000000       1.000000     1.000000   \n",
       "25%        2.000000               2.000000       2.000000     2.000000   \n",
       "50%        3.000000               3.000000       3.000000     3.000000   \n",
       "75%        4.000000               3.000000       4.000000     4.000000   \n",
       "max        5.000000               5.000000       5.000000     5.000000   \n",
       "\n",
       "       Thinking ahead  Final judgement  Reliability  Keeping promises  \\\n",
       "count      862.000000       862.000000   862.000000        862.000000   \n",
       "mean         3.440835         2.611369     3.857309          4.001160   \n",
       "std          1.129523         1.371185     0.939178          0.884109   \n",
       "min          1.000000         1.000000     1.000000          1.000000   \n",
       "25%          3.000000         1.000000     3.000000          3.000000   \n",
       "50%          3.000000         3.000000     4.000000          4.000000   \n",
       "75%          4.000000         3.000000     5.000000          5.000000   \n",
       "max          5.000000         5.000000     5.000000          5.000000   \n",
       "\n",
       "       Loss of interest  Friends versus money     ...      Happiness in life  \\\n",
       "count        862.000000            862.000000     ...             862.000000   \n",
       "mean           2.653132              3.790023     ...               3.694896   \n",
       "std            1.344014              1.105889     ...               0.829730   \n",
       "min            1.000000              1.000000     ...               1.000000   \n",
       "25%            1.000000              3.000000     ...               3.000000   \n",
       "50%            3.000000              4.000000     ...               4.000000   \n",
       "75%            4.000000              5.000000     ...               4.000000   \n",
       "max            5.000000              5.000000     ...               5.000000   \n",
       "\n",
       "       Energy levels  Small - big dogs  Personality  Finding lost valuables  \\\n",
       "count     862.000000        862.000000   862.000000              862.000000   \n",
       "mean        3.619490          2.969838     3.281903                2.849188   \n",
       "std         1.000112          1.213176     0.639848                1.243984   \n",
       "min         1.000000          1.000000     1.000000                1.000000   \n",
       "25%         3.000000          2.000000     3.000000                2.000000   \n",
       "50%         4.000000          3.000000     3.000000                3.000000   \n",
       "75%         4.000000          4.000000     4.000000                4.000000   \n",
       "max         5.000000          5.000000     5.000000                5.000000   \n",
       "\n",
       "       Getting up  Interests or hobbies  Parents' advice  \\\n",
       "count  862.000000            862.000000       862.000000   \n",
       "mean     3.613689              3.535963         3.270302   \n",
       "std      1.305024              1.177797         0.855412   \n",
       "min      1.000000              1.000000         1.000000   \n",
       "25%      3.000000              3.000000         3.000000   \n",
       "50%      4.000000              4.000000         3.000000   \n",
       "75%      5.000000              5.000000         4.000000   \n",
       "max      5.000000              5.000000         5.000000   \n",
       "\n",
       "       Questionnaires or polls    Finances  \n",
       "count               862.000000  862.000000  \n",
       "mean                  2.772622    3.040603  \n",
       "std                   1.083845    1.143369  \n",
       "min                   1.000000    1.000000  \n",
       "25%                   2.000000    2.000000  \n",
       "50%                   3.000000    3.000000  \n",
       "75%                   3.000000    4.000000  \n",
       "max                   5.000000    5.000000  \n",
       "\n",
       "[8 rows x 55 columns]"
      ]
     },
     "execution_count": 61,
     "metadata": {},
     "output_type": "execute_result"
    }
   ],
   "source": [
    "df_data.describe()"
   ]
  },
  {
   "cell_type": "code",
   "execution_count": 62,
   "metadata": {},
   "outputs": [
    {
     "data": {
      "text/plain": [
       "-0.1440845815804099"
      ]
     },
     "execution_count": 62,
     "metadata": {},
     "output_type": "execute_result"
    }
   ],
   "source": [
    "df_data.skew().mean()"
   ]
  },
  {
   "cell_type": "code",
   "execution_count": 65,
   "metadata": {
    "collapsed": true
   },
   "outputs": [],
   "source": [
    "import matplotlib.pyplot as plt\n",
    "import seaborn as sns\n",
    "\n",
    "sns.set()\n",
    "\n",
    "%matplotlib inline\n",
    "\n",
    "plt.rcParams['figure.figsize'] = (8, 6)\n",
    "plt.rcParams['font.size'] = 14"
   ]
  },
  {
   "cell_type": "code",
   "execution_count": 66,
   "metadata": {},
   "outputs": [
    {
     "data": {
      "text/plain": [
       "<matplotlib.axes._subplots.AxesSubplot at 0x1144afd50>"
      ]
     },
     "execution_count": 66,
     "metadata": {},
     "output_type": "execute_result"
    },
    {
     "data": {
      "image/png": "[encoded data removed]",
      "text/plain": [
       "<matplotlib.figure.Figure at 0x1144afe90>"
      ]
     },
     "metadata": {},
     "output_type": "display_data"
    }
   ],
   "source": [
    "fig = plt.figure(figsize=(20,12))\n",
    "ax = fig.gca()\n",
    "\n",
    "sn.heatmap(df_data.corr('spearman'), ax=ax)"
   ]
  },
  {
   "cell_type": "code",
   "execution_count": 92,
   "metadata": {},
   "outputs": [
    {
     "data": {
      "text/html": [
       "<div>\n",
       "<style>\n",
       "    .dataframe thead tr:only-child th {\n",
       "        text-align: right;\n",
       "    }\n",
       "\n",
       "    .dataframe thead th {\n",
       "        text-align: left;\n",
       "    }\n",
       "\n",
       "    .dataframe tbody tr th {\n",
       "        vertical-align: top;\n",
       "    }\n",
       "</style>\n",
       "<table border=\"1\" class=\"dataframe\">\n",
       "  <thead>\n",
       "    <tr style=\"text-align: right;\">\n",
       "      <th></th>\n",
       "      <th>Finances</th>\n",
       "    </tr>\n",
       "  </thead>\n",
       "  <tbody>\n",
       "    <tr>\n",
       "      <th>Daily events</th>\n",
       "      <td>0.006845</td>\n",
       "    </tr>\n",
       "    <tr>\n",
       "      <th>Prioritising workload</th>\n",
       "      <td>0.259795</td>\n",
       "    </tr>\n",
       "    <tr>\n",
       "      <th>Writing notes</th>\n",
       "      <td>0.093746</td>\n",
       "    </tr>\n",
       "    <tr>\n",
       "      <th>Workaholism</th>\n",
       "      <td>0.121692</td>\n",
       "    </tr>\n",
       "    <tr>\n",
       "      <th>Thinking ahead</th>\n",
       "      <td>0.199472</td>\n",
       "    </tr>\n",
       "  </tbody>\n",
       "</table>\n",
       "</div>"
      ],
      "text/plain": [
       "                       Finances\n",
       "Daily events           0.006845\n",
       "Prioritising workload  0.259795\n",
       "Writing notes          0.093746\n",
       "Workaholism            0.121692\n",
       "Thinking ahead         0.199472"
      ]
     },
     "execution_count": 92,
     "metadata": {},
     "output_type": "execute_result"
    }
   ],
   "source": [
    "df_corr = df_data.corr(method=\"spearman\").iloc[:, 54:55]\n",
    "\n",
    "df_corr.head()"
   ]
  },
  {
   "cell_type": "code",
   "execution_count": 93,
   "metadata": {},
   "outputs": [
    {
     "data": {
      "text/plain": [
       "pandas.core.frame.DataFrame"
      ]
     },
     "execution_count": 93,
     "metadata": {},
     "output_type": "execute_result"
    }
   ],
   "source": [
    "type(df_corr)"
   ]
  },
  {
   "cell_type": "code",
   "execution_count": 95,
   "metadata": {},
   "outputs": [
    {
     "data": {
      "text/plain": [
       "Finances                          1.000000\n",
       "Prioritising workload             0.259795\n",
       "Borrowed stuff                    0.208297\n",
       "Thinking ahead                    0.199472\n",
       "Decision making                   0.198901\n",
       "Questionnaires or polls           0.182939\n",
       "Parents' advice                   0.167315\n",
       "Reliability                       0.156791\n",
       "Keeping promises                  0.154164\n",
       "Finding lost valuables            0.141031\n",
       "Public speaking                   0.123116\n",
       "Workaholism                       0.121692\n",
       "Final judgement                   0.109038\n",
       "Charity                           0.096127\n",
       "Writing notes                     0.093746\n",
       "Waiting                           0.093332\n",
       "Health                            0.068947\n",
       "God                               0.060869\n",
       "Self-criticism                    0.054707\n",
       "Elections                         0.053449\n",
       "Eating to survive                 0.053418\n",
       "Giving                            0.049488\n",
       "Unpopularity                      0.044883\n",
       "Empathy                           0.044091\n",
       "Life struggles                    0.042074\n",
       "Friends versus money              0.040359\n",
       "Children                          0.039613\n",
       "Responding to a serious letter    0.031488\n",
       "Compassion to animals             0.013321\n",
       "Loneliness                        0.008767\n",
       "Daily events                      0.006845\n",
       "Happiness in life                -0.001229\n",
       "Dreams                           -0.003208\n",
       "Hypochondria                     -0.019013\n",
       "Judgment calls                   -0.031233\n",
       "Personality                      -0.033477\n",
       "Mood swings                      -0.035449\n",
       "Changing the past                -0.039246\n",
       "Knowing the right people         -0.042818\n",
       "Appearence and gestures          -0.052098\n",
       "Assertiveness                    -0.058512\n",
       "Fake                             -0.061107\n",
       "New environment                  -0.063349\n",
       "Achievements                     -0.067609\n",
       "Energy levels                    -0.068201\n",
       "Interests or hobbies             -0.073417\n",
       "Getting angry                    -0.075992\n",
       "Loss of interest                 -0.083384\n",
       "Funniness                        -0.085746\n",
       "Socializing                      -0.124018\n",
       "Criminal damage                  -0.141045\n",
       "Small - big dogs                 -0.146736\n",
       "Number of friends                -0.152179\n",
       "Cheating in school               -0.176683\n",
       "Getting up                       -0.230187\n",
       "Name: Finances, dtype: float64"
      ]
     },
     "execution_count": 95,
     "metadata": {},
     "output_type": "execute_result"
    }
   ],
   "source": [
    "df_corr[\"Finances\"].sort_values(ascending=False)"
   ]
  },
  {
   "cell_type": "code",
   "execution_count": 68,
   "metadata": {},
   "outputs": [
    {
     "data": {
      "text/plain": [
       "(-0.5, 4.5)"
      ]
     },
     "execution_count": 68,
     "metadata": {},
     "output_type": "execute_result"
    },
    {
     "data": {
      "image/png": "[encoded data removed]",
      "text/plain": [
       "<matplotlib.figure.Figure at 0x114da4d90>"
      ]
     },
     "metadata": {},
     "output_type": "display_data"
    }
   ],
   "source": [
    "fig, (ax1, ax2) = plt.subplots(1,2, figsize=(14,7), sharey=True)\n",
    "\n",
    "sns.countplot(df_data['Finances'], ax=ax1)\n",
    "ax1.set_xlim()\n",
    "\n",
    "sns.countplot(df_data['Prioritising workload'], ax=ax2)\n",
    "ax2.set_xlim()"
   ]
  },
  {
   "cell_type": "code",
   "execution_count": 69,
   "metadata": {},
   "outputs": [
    {
     "data": {
      "text/html": [
       "<div>\n",
       "<style>\n",
       "    .dataframe thead tr:only-child th {\n",
       "        text-align: right;\n",
       "    }\n",
       "\n",
       "    .dataframe thead th {\n",
       "        text-align: left;\n",
       "    }\n",
       "\n",
       "    .dataframe tbody tr th {\n",
       "        vertical-align: top;\n",
       "    }\n",
       "</style>\n",
       "<table border=\"1\" class=\"dataframe\">\n",
       "  <thead>\n",
       "    <tr style=\"text-align: right;\">\n",
       "      <th></th>\n",
       "      <th></th>\n",
       "      <th>Prioritising workload</th>\n",
       "    </tr>\n",
       "    <tr>\n",
       "      <th>Finances</th>\n",
       "      <th>Prioritising workload</th>\n",
       "      <th></th>\n",
       "    </tr>\n",
       "  </thead>\n",
       "  <tbody>\n",
       "    <tr>\n",
       "      <th rowspan=\"5\" valign=\"top\">1.0</th>\n",
       "      <th>1.0</th>\n",
       "      <td>51</td>\n",
       "    </tr>\n",
       "    <tr>\n",
       "      <th>2.0</th>\n",
       "      <td>25</td>\n",
       "    </tr>\n",
       "    <tr>\n",
       "      <th>3.0</th>\n",
       "      <td>15</td>\n",
       "    </tr>\n",
       "    <tr>\n",
       "      <th>4.0</th>\n",
       "      <td>9</td>\n",
       "    </tr>\n",
       "    <tr>\n",
       "      <th>5.0</th>\n",
       "      <td>5</td>\n",
       "    </tr>\n",
       "    <tr>\n",
       "      <th rowspan=\"5\" valign=\"top\">2.0</th>\n",
       "      <th>1.0</th>\n",
       "      <td>38</td>\n",
       "    </tr>\n",
       "    <tr>\n",
       "      <th>2.0</th>\n",
       "      <td>43</td>\n",
       "    </tr>\n",
       "    <tr>\n",
       "      <th>3.0</th>\n",
       "      <td>42</td>\n",
       "    </tr>\n",
       "    <tr>\n",
       "      <th>4.0</th>\n",
       "      <td>17</td>\n",
       "    </tr>\n",
       "    <tr>\n",
       "      <th>5.0</th>\n",
       "      <td>6</td>\n",
       "    </tr>\n",
       "    <tr>\n",
       "      <th rowspan=\"5\" valign=\"top\">3.0</th>\n",
       "      <th>1.0</th>\n",
       "      <td>57</td>\n",
       "    </tr>\n",
       "    <tr>\n",
       "      <th>2.0</th>\n",
       "      <td>75</td>\n",
       "    </tr>\n",
       "    <tr>\n",
       "      <th>3.0</th>\n",
       "      <td>116</td>\n",
       "    </tr>\n",
       "    <tr>\n",
       "      <th>4.0</th>\n",
       "      <td>35</td>\n",
       "    </tr>\n",
       "    <tr>\n",
       "      <th>5.0</th>\n",
       "      <td>22</td>\n",
       "    </tr>\n",
       "    <tr>\n",
       "      <th rowspan=\"5\" valign=\"top\">4.0</th>\n",
       "      <th>1.0</th>\n",
       "      <td>31</td>\n",
       "    </tr>\n",
       "    <tr>\n",
       "      <th>2.0</th>\n",
       "      <td>51</td>\n",
       "    </tr>\n",
       "    <tr>\n",
       "      <th>3.0</th>\n",
       "      <td>66</td>\n",
       "    </tr>\n",
       "    <tr>\n",
       "      <th>4.0</th>\n",
       "      <td>51</td>\n",
       "    </tr>\n",
       "    <tr>\n",
       "      <th>5.0</th>\n",
       "      <td>22</td>\n",
       "    </tr>\n",
       "    <tr>\n",
       "      <th rowspan=\"5\" valign=\"top\">5.0</th>\n",
       "      <th>1.0</th>\n",
       "      <td>17</td>\n",
       "    </tr>\n",
       "    <tr>\n",
       "      <th>2.0</th>\n",
       "      <td>13</td>\n",
       "    </tr>\n",
       "    <tr>\n",
       "      <th>3.0</th>\n",
       "      <td>17</td>\n",
       "    </tr>\n",
       "    <tr>\n",
       "      <th>4.0</th>\n",
       "      <td>19</td>\n",
       "    </tr>\n",
       "    <tr>\n",
       "      <th>5.0</th>\n",
       "      <td>19</td>\n",
       "    </tr>\n",
       "  </tbody>\n",
       "</table>\n",
       "</div>"
      ],
      "text/plain": [
       "                                Prioritising workload\n",
       "Finances Prioritising workload                       \n",
       "1.0      1.0                                       51\n",
       "         2.0                                       25\n",
       "         3.0                                       15\n",
       "         4.0                                        9\n",
       "         5.0                                        5\n",
       "2.0      1.0                                       38\n",
       "         2.0                                       43\n",
       "         3.0                                       42\n",
       "         4.0                                       17\n",
       "         5.0                                        6\n",
       "3.0      1.0                                       57\n",
       "         2.0                                       75\n",
       "         3.0                                      116\n",
       "         4.0                                       35\n",
       "         5.0                                       22\n",
       "4.0      1.0                                       31\n",
       "         2.0                                       51\n",
       "         3.0                                       66\n",
       "         4.0                                       51\n",
       "         5.0                                       22\n",
       "5.0      1.0                                       17\n",
       "         2.0                                       13\n",
       "         3.0                                       17\n",
       "         4.0                                       19\n",
       "         5.0                                       19"
      ]
     },
     "execution_count": 69,
     "metadata": {},
     "output_type": "execute_result"
    }
   ],
   "source": [
    "df_data.groupby(['Finances', \"Prioritising workload\"])[[\"Prioritising workload\"]].count()"
   ]
  },
  {
   "cell_type": "code",
   "execution_count": null,
   "metadata": {
    "collapsed": true
   },
   "outputs": [],
   "source": []
  },
  {
   "cell_type": "code",
   "execution_count": null,
   "metadata": {
    "collapsed": true
   },
   "outputs": [],
   "source": []
  },
  {
   "cell_type": "code",
   "execution_count": null,
   "metadata": {
    "collapsed": true
   },
   "outputs": [],
   "source": []
  },
  {
   "cell_type": "code",
   "execution_count": null,
   "metadata": {
    "collapsed": true
   },
   "outputs": [],
   "source": []
  },
  {
   "cell_type": "code",
   "execution_count": null,
   "metadata": {
    "collapsed": true
   },
   "outputs": [],
   "source": []
  },
  {
   "cell_type": "code",
   "execution_count": 70,
   "metadata": {
    "collapsed": true
   },
   "outputs": [],
   "source": [
    "# Data Preparation"
   ]
  },
  {
   "cell_type": "code",
   "execution_count": 71,
   "metadata": {},
   "outputs": [
    {
     "name": "stdout",
     "output_type": "stream",
     "text": [
      "<class 'pandas.core.frame.DataFrame'>\n",
      "Int64Index: 862 entries, 0 to 1009\n",
      "Data columns (total 58 columns):\n",
      "Daily events                      862 non-null float64\n",
      "Prioritising workload             862 non-null float64\n",
      "Writing notes                     862 non-null float64\n",
      "Workaholism                       862 non-null float64\n",
      "Thinking ahead                    862 non-null float64\n",
      "Final judgement                   862 non-null float64\n",
      "Reliability                       862 non-null float64\n",
      "Keeping promises                  862 non-null float64\n",
      "Loss of interest                  862 non-null float64\n",
      "Friends versus money              862 non-null float64\n",
      "Funniness                         862 non-null float64\n",
      "Fake                              862 non-null float64\n",
      "Criminal damage                   862 non-null float64\n",
      "Decision making                   862 non-null float64\n",
      "Elections                         862 non-null float64\n",
      "Self-criticism                    862 non-null float64\n",
      "Judgment calls                    862 non-null float64\n",
      "Hypochondria                      862 non-null float64\n",
      "Empathy                           862 non-null float64\n",
      "Eating to survive                 862 non-null int64\n",
      "Giving                            862 non-null float64\n",
      "Compassion to animals             862 non-null float64\n",
      "Borrowed stuff                    862 non-null float64\n",
      "Loneliness                        862 non-null float64\n",
      "Cheating in school                862 non-null float64\n",
      "Health                            862 non-null float64\n",
      "Changing the past                 862 non-null float64\n",
      "God                               862 non-null float64\n",
      "Dreams                            862 non-null int64\n",
      "Charity                           862 non-null float64\n",
      "Number of friends                 862 non-null int64\n",
      "Punctuality                       862 non-null object\n",
      "Lying                             862 non-null object\n",
      "Waiting                           862 non-null float64\n",
      "New environment                   862 non-null float64\n",
      "Mood swings                       862 non-null float64\n",
      "Appearence and gestures           862 non-null float64\n",
      "Socializing                       862 non-null float64\n",
      "Achievements                      862 non-null float64\n",
      "Responding to a serious letter    862 non-null float64\n",
      "Children                          862 non-null float64\n",
      "Assertiveness                     862 non-null float64\n",
      "Getting angry                     862 non-null float64\n",
      "Knowing the right people          862 non-null float64\n",
      "Public speaking                   862 non-null float64\n",
      "Unpopularity                      862 non-null float64\n",
      "Life struggles                    862 non-null float64\n",
      "Happiness in life                 862 non-null float64\n",
      "Energy levels                     862 non-null float64\n",
      "Small - big dogs                  862 non-null float64\n",
      "Personality                       862 non-null float64\n",
      "Finding lost valuables            862 non-null float64\n",
      "Getting up                        862 non-null float64\n",
      "Interests or hobbies              862 non-null float64\n",
      "Parents' advice                   862 non-null float64\n",
      "Questionnaires or polls           862 non-null float64\n",
      "Internet usage                    862 non-null object\n",
      "Finances                          862 non-null float64\n",
      "dtypes: float64(52), int64(3), object(3)\n",
      "memory usage: 437.3+ KB\n"
     ]
    }
   ],
   "source": [
    "df_data.info()"
   ]
  },
  {
   "cell_type": "code",
   "execution_count": 72,
   "metadata": {},
   "outputs": [
    {
     "data": {
      "text/plain": [
       "array(['never', 'sometimes', 'everytime it suits me',\n",
       "       'only to avoid hurting someone'], dtype=object)"
      ]
     },
     "execution_count": 72,
     "metadata": {},
     "output_type": "execute_result"
    }
   ],
   "source": [
    "df_data[\"Lying\"].unique()"
   ]
  },
  {
   "cell_type": "code",
   "execution_count": 73,
   "metadata": {},
   "outputs": [
    {
     "data": {
      "text/plain": [
       "array(['i am always on time', 'i am often early', 'i am often running late'], dtype=object)"
      ]
     },
     "execution_count": 73,
     "metadata": {},
     "output_type": "execute_result"
    }
   ],
   "source": [
    "df_data[\"Punctuality\"].unique()"
   ]
  },
  {
   "cell_type": "code",
   "execution_count": 74,
   "metadata": {},
   "outputs": [
    {
     "data": {
      "text/plain": [
       "array(['few hours a day', 'less than an hour a day', 'most of the day',\n",
       "       'no time at all'], dtype=object)"
      ]
     },
     "execution_count": 74,
     "metadata": {},
     "output_type": "execute_result"
    }
   ],
   "source": [
    "df_data[\"Internet usage\"].unique()"
   ]
  },
  {
   "cell_type": "code",
   "execution_count": 75,
   "metadata": {
    "collapsed": true
   },
   "outputs": [],
   "source": [
    "lying_dummies = pd.get_dummies(df_data[\"Lying\"], prefix=\"Lying\").iloc[:, 1:]\n",
    "ponctuality_dummies = pd.get_dummies(df_data[\"Punctuality\"], prefix=\"Punctuality\").iloc[:, 1:]\n",
    "internet_usage_dummies = pd.get_dummies(df_data[\"Internet usage\"], prefix=\"Internet usage\").iloc[:, 1:]"
   ]
  },
  {
   "cell_type": "code",
   "execution_count": 76,
   "metadata": {
    "collapsed": true
   },
   "outputs": [],
   "source": [
    "df_data_model = pd.concat([df_data, lying_dummies, ponctuality_dummies, internet_usage_dummies], axis=1)"
   ]
  },
  {
   "cell_type": "code",
   "execution_count": 77,
   "metadata": {
    "collapsed": true
   },
   "outputs": [],
   "source": [
    "df_data_model = df_data_model.drop([\"Lying\", \"Punctuality\", \"Internet usage\"], axis=1)"
   ]
  },
  {
   "cell_type": "code",
   "execution_count": 78,
   "metadata": {},
   "outputs": [
    {
     "data": {
      "text/html": [
       "<div>\n",
       "<style>\n",
       "    .dataframe thead tr:only-child th {\n",
       "        text-align: right;\n",
       "    }\n",
       "\n",
       "    .dataframe thead th {\n",
       "        text-align: left;\n",
       "    }\n",
       "\n",
       "    .dataframe tbody tr th {\n",
       "        vertical-align: top;\n",
       "    }\n",
       "</style>\n",
       "<table border=\"1\" class=\"dataframe\">\n",
       "  <thead>\n",
       "    <tr style=\"text-align: right;\">\n",
       "      <th></th>\n",
       "      <th>Daily events</th>\n",
       "      <th>Prioritising workload</th>\n",
       "      <th>Writing notes</th>\n",
       "      <th>Workaholism</th>\n",
       "      <th>Thinking ahead</th>\n",
       "      <th>Final judgement</th>\n",
       "      <th>Reliability</th>\n",
       "      <th>Keeping promises</th>\n",
       "      <th>Loss of interest</th>\n",
       "      <th>Friends versus money</th>\n",
       "      <th>...</th>\n",
       "      <th>Questionnaires or polls</th>\n",
       "      <th>Finances</th>\n",
       "      <th>Lying_never</th>\n",
       "      <th>Lying_only to avoid hurting someone</th>\n",
       "      <th>Lying_sometimes</th>\n",
       "      <th>Punctuality_i am often early</th>\n",
       "      <th>Punctuality_i am often running late</th>\n",
       "      <th>Internet usage_less than an hour a day</th>\n",
       "      <th>Internet usage_most of the day</th>\n",
       "      <th>Internet usage_no time at all</th>\n",
       "    </tr>\n",
       "  </thead>\n",
       "  <tbody>\n",
       "    <tr>\n",
       "      <th>0</th>\n",
       "      <td>2.0</td>\n",
       "      <td>2.0</td>\n",
       "      <td>5.0</td>\n",
       "      <td>4.0</td>\n",
       "      <td>2.0</td>\n",
       "      <td>5.0</td>\n",
       "      <td>4.0</td>\n",
       "      <td>4.0</td>\n",
       "      <td>1.0</td>\n",
       "      <td>3.0</td>\n",
       "      <td>...</td>\n",
       "      <td>3.0</td>\n",
       "      <td>3.0</td>\n",
       "      <td>1</td>\n",
       "      <td>0</td>\n",
       "      <td>0</td>\n",
       "      <td>0</td>\n",
       "      <td>0</td>\n",
       "      <td>0</td>\n",
       "      <td>0</td>\n",
       "      <td>0</td>\n",
       "    </tr>\n",
       "    <tr>\n",
       "      <th>1</th>\n",
       "      <td>3.0</td>\n",
       "      <td>2.0</td>\n",
       "      <td>4.0</td>\n",
       "      <td>5.0</td>\n",
       "      <td>4.0</td>\n",
       "      <td>1.0</td>\n",
       "      <td>4.0</td>\n",
       "      <td>4.0</td>\n",
       "      <td>3.0</td>\n",
       "      <td>4.0</td>\n",
       "      <td>...</td>\n",
       "      <td>3.0</td>\n",
       "      <td>3.0</td>\n",
       "      <td>0</td>\n",
       "      <td>0</td>\n",
       "      <td>1</td>\n",
       "      <td>1</td>\n",
       "      <td>0</td>\n",
       "      <td>0</td>\n",
       "      <td>0</td>\n",
       "      <td>0</td>\n",
       "    </tr>\n",
       "    <tr>\n",
       "      <th>2</th>\n",
       "      <td>1.0</td>\n",
       "      <td>2.0</td>\n",
       "      <td>5.0</td>\n",
       "      <td>3.0</td>\n",
       "      <td>5.0</td>\n",
       "      <td>3.0</td>\n",
       "      <td>4.0</td>\n",
       "      <td>5.0</td>\n",
       "      <td>1.0</td>\n",
       "      <td>5.0</td>\n",
       "      <td>...</td>\n",
       "      <td>1.0</td>\n",
       "      <td>2.0</td>\n",
       "      <td>0</td>\n",
       "      <td>0</td>\n",
       "      <td>1</td>\n",
       "      <td>0</td>\n",
       "      <td>1</td>\n",
       "      <td>0</td>\n",
       "      <td>0</td>\n",
       "      <td>0</td>\n",
       "    </tr>\n",
       "    <tr>\n",
       "      <th>4</th>\n",
       "      <td>3.0</td>\n",
       "      <td>1.0</td>\n",
       "      <td>2.0</td>\n",
       "      <td>3.0</td>\n",
       "      <td>5.0</td>\n",
       "      <td>5.0</td>\n",
       "      <td>5.0</td>\n",
       "      <td>4.0</td>\n",
       "      <td>2.0</td>\n",
       "      <td>3.0</td>\n",
       "      <td>...</td>\n",
       "      <td>3.0</td>\n",
       "      <td>4.0</td>\n",
       "      <td>0</td>\n",
       "      <td>0</td>\n",
       "      <td>0</td>\n",
       "      <td>0</td>\n",
       "      <td>0</td>\n",
       "      <td>0</td>\n",
       "      <td>0</td>\n",
       "      <td>0</td>\n",
       "    </tr>\n",
       "    <tr>\n",
       "      <th>5</th>\n",
       "      <td>2.0</td>\n",
       "      <td>2.0</td>\n",
       "      <td>3.0</td>\n",
       "      <td>3.0</td>\n",
       "      <td>3.0</td>\n",
       "      <td>1.0</td>\n",
       "      <td>3.0</td>\n",
       "      <td>4.0</td>\n",
       "      <td>3.0</td>\n",
       "      <td>2.0</td>\n",
       "      <td>...</td>\n",
       "      <td>4.0</td>\n",
       "      <td>2.0</td>\n",
       "      <td>0</td>\n",
       "      <td>1</td>\n",
       "      <td>0</td>\n",
       "      <td>1</td>\n",
       "      <td>0</td>\n",
       "      <td>0</td>\n",
       "      <td>0</td>\n",
       "      <td>0</td>\n",
       "    </tr>\n",
       "  </tbody>\n",
       "</table>\n",
       "<p>5 rows × 63 columns</p>\n",
       "</div>"
      ],
      "text/plain": [
       "   Daily events  Prioritising workload  Writing notes  Workaholism  \\\n",
       "0           2.0                    2.0            5.0          4.0   \n",
       "1           3.0                    2.0            4.0          5.0   \n",
       "2           1.0                    2.0            5.0          3.0   \n",
       "4           3.0                    1.0            2.0          3.0   \n",
       "5           2.0                    2.0            3.0          3.0   \n",
       "\n",
       "   Thinking ahead  Final judgement  Reliability  Keeping promises  \\\n",
       "0             2.0              5.0          4.0               4.0   \n",
       "1             4.0              1.0          4.0               4.0   \n",
       "2             5.0              3.0          4.0               5.0   \n",
       "4             5.0              5.0          5.0               4.0   \n",
       "5             3.0              1.0          3.0               4.0   \n",
       "\n",
       "   Loss of interest  Friends versus money              ...                \\\n",
       "0               1.0                   3.0              ...                 \n",
       "1               3.0                   4.0              ...                 \n",
       "2               1.0                   5.0              ...                 \n",
       "4               2.0                   3.0              ...                 \n",
       "5               3.0                   2.0              ...                 \n",
       "\n",
       "   Questionnaires or polls  Finances  Lying_never  \\\n",
       "0                      3.0       3.0            1   \n",
       "1                      3.0       3.0            0   \n",
       "2                      1.0       2.0            0   \n",
       "4                      3.0       4.0            0   \n",
       "5                      4.0       2.0            0   \n",
       "\n",
       "   Lying_only to avoid hurting someone  Lying_sometimes  \\\n",
       "0                                    0                0   \n",
       "1                                    0                1   \n",
       "2                                    0                1   \n",
       "4                                    0                0   \n",
       "5                                    1                0   \n",
       "\n",
       "   Punctuality_i am often early  Punctuality_i am often running late  \\\n",
       "0                             0                                    0   \n",
       "1                             1                                    0   \n",
       "2                             0                                    1   \n",
       "4                             0                                    0   \n",
       "5                             1                                    0   \n",
       "\n",
       "   Internet usage_less than an hour a day  Internet usage_most of the day  \\\n",
       "0                                       0                               0   \n",
       "1                                       0                               0   \n",
       "2                                       0                               0   \n",
       "4                                       0                               0   \n",
       "5                                       0                               0   \n",
       "\n",
       "   Internet usage_no time at all  \n",
       "0                              0  \n",
       "1                              0  \n",
       "2                              0  \n",
       "4                              0  \n",
       "5                              0  \n",
       "\n",
       "[5 rows x 63 columns]"
      ]
     },
     "execution_count": 78,
     "metadata": {},
     "output_type": "execute_result"
    }
   ],
   "source": [
    "df_data_model.head()"
   ]
  },
  {
   "cell_type": "code",
   "execution_count": 79,
   "metadata": {},
   "outputs": [
    {
     "name": "stdout",
     "output_type": "stream",
     "text": [
      "<class 'pandas.core.frame.DataFrame'>\n",
      "Int64Index: 862 entries, 0 to 1009\n",
      "Data columns (total 63 columns):\n",
      "Daily events                              862 non-null float64\n",
      "Prioritising workload                     862 non-null float64\n",
      "Writing notes                             862 non-null float64\n",
      "Workaholism                               862 non-null float64\n",
      "Thinking ahead                            862 non-null float64\n",
      "Final judgement                           862 non-null float64\n",
      "Reliability                               862 non-null float64\n",
      "Keeping promises                          862 non-null float64\n",
      "Loss of interest                          862 non-null float64\n",
      "Friends versus money                      862 non-null float64\n",
      "Funniness                                 862 non-null float64\n",
      "Fake                                      862 non-null float64\n",
      "Criminal damage                           862 non-null float64\n",
      "Decision making                           862 non-null float64\n",
      "Elections                                 862 non-null float64\n",
      "Self-criticism                            862 non-null float64\n",
      "Judgment calls                            862 non-null float64\n",
      "Hypochondria                              862 non-null float64\n",
      "Empathy                                   862 non-null float64\n",
      "Eating to survive                         862 non-null int64\n",
      "Giving                                    862 non-null float64\n",
      "Compassion to animals                     862 non-null float64\n",
      "Borrowed stuff                            862 non-null float64\n",
      "Loneliness                                862 non-null float64\n",
      "Cheating in school                        862 non-null float64\n",
      "Health                                    862 non-null float64\n",
      "Changing the past                         862 non-null float64\n",
      "God                                       862 non-null float64\n",
      "Dreams                                    862 non-null int64\n",
      "Charity                                   862 non-null float64\n",
      "Number of friends                         862 non-null int64\n",
      "Waiting                                   862 non-null float64\n",
      "New environment                           862 non-null float64\n",
      "Mood swings                               862 non-null float64\n",
      "Appearence and gestures                   862 non-null float64\n",
      "Socializing                               862 non-null float64\n",
      "Achievements                              862 non-null float64\n",
      "Responding to a serious letter            862 non-null float64\n",
      "Children                                  862 non-null float64\n",
      "Assertiveness                             862 non-null float64\n",
      "Getting angry                             862 non-null float64\n",
      "Knowing the right people                  862 non-null float64\n",
      "Public speaking                           862 non-null float64\n",
      "Unpopularity                              862 non-null float64\n",
      "Life struggles                            862 non-null float64\n",
      "Happiness in life                         862 non-null float64\n",
      "Energy levels                             862 non-null float64\n",
      "Small - big dogs                          862 non-null float64\n",
      "Personality                               862 non-null float64\n",
      "Finding lost valuables                    862 non-null float64\n",
      "Getting up                                862 non-null float64\n",
      "Interests or hobbies                      862 non-null float64\n",
      "Parents' advice                           862 non-null float64\n",
      "Questionnaires or polls                   862 non-null float64\n",
      "Finances                                  862 non-null float64\n",
      "Lying_never                               862 non-null uint8\n",
      "Lying_only to avoid hurting someone       862 non-null uint8\n",
      "Lying_sometimes                           862 non-null uint8\n",
      "Punctuality_i am often early              862 non-null uint8\n",
      "Punctuality_i am often running late       862 non-null uint8\n",
      "Internet usage_less than an hour a day    862 non-null uint8\n",
      "Internet usage_most of the day            862 non-null uint8\n",
      "Internet usage_no time at all             862 non-null uint8\n",
      "dtypes: float64(52), int64(3), uint8(8)\n",
      "memory usage: 423.9 KB\n"
     ]
    }
   ],
   "source": [
    "df_data_model.info()"
   ]
  },
  {
   "cell_type": "code",
   "execution_count": 80,
   "metadata": {
    "collapsed": true
   },
   "outputs": [],
   "source": [
    "df_data_model.loc[df_data_model['Finances'] <= 3, 'Finances'] = 0\n",
    "df_data_model.loc[df_data_model['Finances'] > 3, 'Finances'] = 1"
   ]
  },
  {
   "cell_type": "code",
   "execution_count": 81,
   "metadata": {},
   "outputs": [
    {
     "data": {
      "text/plain": [
       "0    0.0\n",
       "1    0.0\n",
       "2    0.0\n",
       "4    1.0\n",
       "5    0.0\n",
       "Name: Finances, dtype: float64"
      ]
     },
     "execution_count": 81,
     "metadata": {},
     "output_type": "execute_result"
    }
   ],
   "source": [
    "df_data_model[\"Finances\"].head()"
   ]
  },
  {
   "cell_type": "code",
   "execution_count": null,
   "metadata": {
    "collapsed": true
   },
   "outputs": [],
   "source": []
  },
  {
   "cell_type": "code",
   "execution_count": null,
   "metadata": {
    "collapsed": true
   },
   "outputs": [],
   "source": []
  },
  {
   "cell_type": "code",
   "execution_count": 82,
   "metadata": {
    "collapsed": true
   },
   "outputs": [],
   "source": [
    "# Decision Tree Model"
   ]
  },
  {
   "cell_type": "code",
   "execution_count": 83,
   "metadata": {},
   "outputs": [
    {
     "data": {
      "text/plain": [
       "DecisionTreeClassifier(class_weight=None, criterion='gini', max_depth=2,\n",
       "            max_features=None, max_leaf_nodes=None,\n",
       "            min_impurity_split=1e-07, min_samples_leaf=5,\n",
       "            min_samples_split=2, min_weight_fraction_leaf=0.0,\n",
       "            presort=False, random_state=None, splitter='best')"
      ]
     },
     "execution_count": 83,
     "metadata": {},
     "output_type": "execute_result"
    }
   ],
   "source": [
    "from sklearn.tree import DecisionTreeClassifier\n",
    "\n",
    "dtree = DecisionTreeClassifier(max_depth = 2, min_samples_leaf = 5)\n",
    "\n",
    "X = df_data_model.drop(\"Finances\", axis=1)\n",
    "y = df_data_model[\"Finances\"]\n",
    "\n",
    "dtree.fit(X, y)"
   ]
  },
  {
   "cell_type": "code",
   "execution_count": 97,
   "metadata": {},
   "outputs": [
    {
     "name": "stdout",
     "output_type": "stream",
     "text": [
      "CV AUC [ 0.6514652   0.59432234  0.58853383  0.61503759  0.71243326  0.59458429\n",
      "  0.58676583  0.61441648], Average AUC 0.619694852725\n"
     ]
    }
   ],
   "source": [
    "from sklearn.cross_validation import cross_val_score\n",
    "\n",
    "scores = cross_val_score(dtree, X, y, scoring='roc_auc', cv=8)\n",
    "\n",
    "print('CV AUC {}, Average AUC {}'.format(scores, scores.mean()))"
   ]
  },
  {
   "cell_type": "code",
   "execution_count": null,
   "metadata": {
    "collapsed": true
   },
   "outputs": [],
   "source": []
  },
  {
   "cell_type": "code",
   "execution_count": null,
   "metadata": {
    "collapsed": true
   },
   "outputs": [],
   "source": []
  },
  {
   "cell_type": "code",
   "execution_count": 85,
   "metadata": {
    "collapsed": true
   },
   "outputs": [],
   "source": [
    "# Random Forest Model"
   ]
  },
  {
   "cell_type": "code",
   "execution_count": 86,
   "metadata": {},
   "outputs": [
    {
     "data": {
      "text/plain": [
       "RandomForestClassifier(bootstrap=True, class_weight=None, criterion='gini',\n",
       "            max_depth=None, max_features='auto', max_leaf_nodes=None,\n",
       "            min_impurity_split=1e-07, min_samples_leaf=1,\n",
       "            min_samples_split=2, min_weight_fraction_leaf=0.0,\n",
       "            n_estimators=20, n_jobs=1, oob_score=False, random_state=None,\n",
       "            verbose=0, warm_start=False)"
      ]
     },
     "execution_count": 86,
     "metadata": {},
     "output_type": "execute_result"
    }
   ],
   "source": [
    "from sklearn.ensemble import RandomForestClassifier\n",
    "from sklearn.ensemble import RandomForestRegressor\n",
    "\n",
    "rf = RandomForestClassifier(n_estimators = 20)\n",
    "    \n",
    "rf.fit(X, y)"
   ]
  },
  {
   "cell_type": "code",
   "execution_count": 87,
   "metadata": {},
   "outputs": [
    {
     "data": {
      "text/html": [
       "<div>\n",
       "<style>\n",
       "    .dataframe thead tr:only-child th {\n",
       "        text-align: right;\n",
       "    }\n",
       "\n",
       "    .dataframe thead th {\n",
       "        text-align: left;\n",
       "    }\n",
       "\n",
       "    .dataframe tbody tr th {\n",
       "        vertical-align: top;\n",
       "    }\n",
       "</style>\n",
       "<table border=\"1\" class=\"dataframe\">\n",
       "  <thead>\n",
       "    <tr style=\"text-align: right;\">\n",
       "      <th></th>\n",
       "      <th>Features</th>\n",
       "      <th>Importance Score</th>\n",
       "    </tr>\n",
       "  </thead>\n",
       "  <tbody>\n",
       "    <tr>\n",
       "      <th>1</th>\n",
       "      <td>Prioritising workload</td>\n",
       "      <td>0.032089</td>\n",
       "    </tr>\n",
       "    <tr>\n",
       "      <th>50</th>\n",
       "      <td>Getting up</td>\n",
       "      <td>0.031960</td>\n",
       "    </tr>\n",
       "    <tr>\n",
       "      <th>13</th>\n",
       "      <td>Decision making</td>\n",
       "      <td>0.027168</td>\n",
       "    </tr>\n",
       "    <tr>\n",
       "      <th>3</th>\n",
       "      <td>Workaholism</td>\n",
       "      <td>0.024499</td>\n",
       "    </tr>\n",
       "    <tr>\n",
       "      <th>30</th>\n",
       "      <td>Number of friends</td>\n",
       "      <td>0.024079</td>\n",
       "    </tr>\n",
       "    <tr>\n",
       "      <th>42</th>\n",
       "      <td>Public speaking</td>\n",
       "      <td>0.023223</td>\n",
       "    </tr>\n",
       "    <tr>\n",
       "      <th>44</th>\n",
       "      <td>Life struggles</td>\n",
       "      <td>0.021850</td>\n",
       "    </tr>\n",
       "    <tr>\n",
       "      <th>32</th>\n",
       "      <td>New environment</td>\n",
       "      <td>0.021731</td>\n",
       "    </tr>\n",
       "    <tr>\n",
       "      <th>24</th>\n",
       "      <td>Cheating in school</td>\n",
       "      <td>0.021594</td>\n",
       "    </tr>\n",
       "    <tr>\n",
       "      <th>35</th>\n",
       "      <td>Socializing</td>\n",
       "      <td>0.021278</td>\n",
       "    </tr>\n",
       "    <tr>\n",
       "      <th>4</th>\n",
       "      <td>Thinking ahead</td>\n",
       "      <td>0.021046</td>\n",
       "    </tr>\n",
       "    <tr>\n",
       "      <th>2</th>\n",
       "      <td>Writing notes</td>\n",
       "      <td>0.021030</td>\n",
       "    </tr>\n",
       "    <tr>\n",
       "      <th>51</th>\n",
       "      <td>Interests or hobbies</td>\n",
       "      <td>0.020237</td>\n",
       "    </tr>\n",
       "    <tr>\n",
       "      <th>22</th>\n",
       "      <td>Borrowed stuff</td>\n",
       "      <td>0.020146</td>\n",
       "    </tr>\n",
       "    <tr>\n",
       "      <th>10</th>\n",
       "      <td>Funniness</td>\n",
       "      <td>0.019840</td>\n",
       "    </tr>\n",
       "    <tr>\n",
       "      <th>49</th>\n",
       "      <td>Finding lost valuables</td>\n",
       "      <td>0.019826</td>\n",
       "    </tr>\n",
       "    <tr>\n",
       "      <th>7</th>\n",
       "      <td>Keeping promises</td>\n",
       "      <td>0.019819</td>\n",
       "    </tr>\n",
       "    <tr>\n",
       "      <th>20</th>\n",
       "      <td>Giving</td>\n",
       "      <td>0.019356</td>\n",
       "    </tr>\n",
       "    <tr>\n",
       "      <th>37</th>\n",
       "      <td>Responding to a serious letter</td>\n",
       "      <td>0.019270</td>\n",
       "    </tr>\n",
       "    <tr>\n",
       "      <th>36</th>\n",
       "      <td>Achievements</td>\n",
       "      <td>0.019162</td>\n",
       "    </tr>\n",
       "    <tr>\n",
       "      <th>47</th>\n",
       "      <td>Small - big dogs</td>\n",
       "      <td>0.018697</td>\n",
       "    </tr>\n",
       "    <tr>\n",
       "      <th>15</th>\n",
       "      <td>Self-criticism</td>\n",
       "      <td>0.018294</td>\n",
       "    </tr>\n",
       "    <tr>\n",
       "      <th>6</th>\n",
       "      <td>Reliability</td>\n",
       "      <td>0.018194</td>\n",
       "    </tr>\n",
       "    <tr>\n",
       "      <th>52</th>\n",
       "      <td>Parents' advice</td>\n",
       "      <td>0.017876</td>\n",
       "    </tr>\n",
       "    <tr>\n",
       "      <th>53</th>\n",
       "      <td>Questionnaires or polls</td>\n",
       "      <td>0.017854</td>\n",
       "    </tr>\n",
       "  </tbody>\n",
       "</table>\n",
       "</div>"
      ],
      "text/plain": [
       "                          Features  Importance Score\n",
       "1            Prioritising workload          0.032089\n",
       "50                      Getting up          0.031960\n",
       "13                 Decision making          0.027168\n",
       "3                      Workaholism          0.024499\n",
       "30               Number of friends          0.024079\n",
       "42                 Public speaking          0.023223\n",
       "44                  Life struggles          0.021850\n",
       "32                 New environment          0.021731\n",
       "24              Cheating in school          0.021594\n",
       "35                     Socializing          0.021278\n",
       "4                   Thinking ahead          0.021046\n",
       "2                    Writing notes          0.021030\n",
       "51            Interests or hobbies          0.020237\n",
       "22                  Borrowed stuff          0.020146\n",
       "10                       Funniness          0.019840\n",
       "49          Finding lost valuables          0.019826\n",
       "7                 Keeping promises          0.019819\n",
       "20                          Giving          0.019356\n",
       "37  Responding to a serious letter          0.019270\n",
       "36                    Achievements          0.019162\n",
       "47                Small - big dogs          0.018697\n",
       "15                  Self-criticism          0.018294\n",
       "6                      Reliability          0.018194\n",
       "52                 Parents' advice          0.017876\n",
       "53         Questionnaires or polls          0.017854"
      ]
     },
     "execution_count": 87,
     "metadata": {},
     "output_type": "execute_result"
    }
   ],
   "source": [
    "features = X.columns\n",
    "feature_importances = rf.feature_importances_\n",
    "\n",
    "features_df = pd.DataFrame({'Features': features, 'Importance Score': feature_importances})\n",
    "features_df.sort_values('Importance Score', inplace=True, ascending=False)\n",
    "\n",
    "features_df.head(25)"
   ]
  },
  {
   "cell_type": "code",
   "execution_count": 88,
   "metadata": {},
   "outputs": [
    {
     "name": "stdout",
     "output_type": "stream",
     "text": [
      "CV AUC [ 0.621284    0.66335453  0.63643349], Average AUC 0.640357340262\n"
     ]
    }
   ],
   "source": [
    "scores = cross_val_score(rf, X, y, scoring='roc_auc')\n",
    "print('CV AUC {}, Average AUC {}'.format(scores, scores.mean()))"
   ]
  },
  {
   "cell_type": "code",
   "execution_count": 98,
   "metadata": {},
   "outputs": [
    {
     "name": "stdout",
     "output_type": "stream",
     "text": [
      "n trees: 1, CV AUC [ 0.61501832  0.5978022   0.58684211  0.48533835  0.5261251   0.53794813\n",
      "  0.50247902  0.58333333], Average AUC 0.554360818434\n",
      "n trees: 11, CV AUC [ 0.69871795  0.6         0.58101504  0.63120301  0.60087719  0.71300534\n",
      "  0.51754386  0.63520214], Average AUC 0.622195565209\n",
      "n trees: 21, CV AUC [ 0.61336996  0.63571429  0.63703008  0.59736842  0.59687262  0.59801678\n",
      "  0.53184592  0.66685736], Average AUC 0.609634427834\n",
      "n trees: 31, CV AUC [ 0.68534799  0.58754579  0.6556391   0.61729323  0.67124333  0.6916476\n",
      "  0.56884058  0.71205187], Average AUC 0.648701184399\n",
      "n trees: 41, CV AUC [ 0.75934066  0.64047619  0.64680451  0.65845865  0.63272311  0.63501144\n",
      "  0.51697178  0.70995423], Average AUC 0.649967571521\n",
      "n trees: 51, CV AUC [ 0.67765568  0.70054945  0.64530075  0.59417293  0.72826087  0.68668955\n",
      "  0.5615942   0.73188406], Average AUC 0.665763436602\n",
      "n trees: 61, CV AUC [ 0.71483516  0.70659341  0.69229323  0.61466165  0.69622426  0.63863463\n",
      "  0.58409611  0.72845156], Average AUC 0.671973752316\n",
      "n trees: 71, CV AUC [ 0.81135531  0.69981685  0.64360902  0.56672932  0.64035088  0.65198322\n",
      "  0.53508772  0.70881007], Average AUC 0.657217798887\n",
      "n trees: 81, CV AUC [ 0.72216117  0.66575092  0.6887218   0.61184211  0.67791762  0.64511823\n",
      "  0.53051106  0.7173913 ], Average AUC 0.657426776599\n",
      "n trees: 91, CV AUC [ 0.76703297  0.70714286  0.65770677  0.70112782  0.68993135  0.68974066\n",
      "  0.49599542  0.71777269], Average AUC 0.678306316586\n",
      "n trees: 101, CV AUC [ 0.75695971  0.68516484  0.66597744  0.65112782  0.64778795  0.6592296\n",
      "  0.5097254   0.70709382], Average AUC 0.660383321389\n",
      "n trees: 111, CV AUC [ 0.71904762  0.67399267  0.69586466  0.61522556  0.71834477  0.68001526\n",
      "  0.55148741  0.69832189], Average AUC 0.669037481874\n",
      "n trees: 121, CV AUC [ 0.73589744  0.66318681  0.68477444  0.62199248  0.6981312   0.67276888\n",
      "  0.5680778   0.71720061], Average AUC 0.67025370701\n",
      "n trees: 131, CV AUC [ 0.71886447  0.64578755  0.63533835  0.66315789  0.70499619  0.67562929\n",
      "  0.56025934  0.75839054], Average AUC 0.670302952197\n",
      "n trees: 141, CV AUC [ 0.76208791  0.65787546  0.67086466  0.61766917  0.68802441  0.68802441\n",
      "  0.56235698  0.73131198], Average AUC 0.672276872155\n",
      "n trees: 151, CV AUC [ 0.70750916  0.68699634  0.65864662  0.61353383  0.6884058   0.70976354\n",
      "  0.5520595   0.73550725], Average AUC 0.66905275312\n",
      "n trees: 161, CV AUC [ 0.74029304  0.67362637  0.65263158  0.65733083  0.6784897   0.68878719\n",
      "  0.56693364  0.74294432], Average AUC 0.675129582946\n",
      "n trees: 171, CV AUC [ 0.74358974  0.71776557  0.66071429  0.61240602  0.67658276  0.67372235\n",
      "  0.55453852  0.74237223], Average AUC 0.672711434732\n",
      "n trees: 181, CV AUC [ 0.73406593  0.69358974  0.6787594   0.61447368  0.69336384  0.65045767\n",
      "  0.55320366  0.77574371], Average AUC 0.674207204885\n",
      "n trees: 191, CV AUC [ 0.72362637  0.67509158  0.65075188  0.61052632  0.69317315  0.66990847\n",
      "  0.55453852  0.73512586], Average AUC 0.664092767454\n"
     ]
    }
   ],
   "source": [
    "for n_trees in range(1, 200, 10):\n",
    "    rf = RandomForestClassifier(n_estimators = n_trees)\n",
    "    scores = cross_val_score(rf, X, y, scoring='roc_auc', cv=8)\n",
    "    print('n trees: {}, CV AUC {}, Average AUC {}'.format(n_trees, scores, scores.mean()))"
   ]
  },
  {
   "cell_type": "code",
   "execution_count": null,
   "metadata": {
    "collapsed": true
   },
   "outputs": [],
   "source": []
  },
  {
   "cell_type": "code",
   "execution_count": null,
   "metadata": {
    "collapsed": true
   },
   "outputs": [],
   "source": []
  },
  {
   "cell_type": "code",
   "execution_count": 90,
   "metadata": {
    "collapsed": true
   },
   "outputs": [],
   "source": [
    "# Random Forest using GridSearch"
   ]
  },
  {
   "cell_type": "code",
   "execution_count": 101,
   "metadata": {},
   "outputs": [],
   "source": [
    "from sklearn import grid_search\n",
    "\n",
    "def explore_model(params, model):\n",
    "    gs = grid_search.GridSearchCV(\n",
    "        estimator=model,\n",
    "        cv=8,\n",
    "        param_grid=params,\n",
    "        scoring='roc_auc',\n",
    "        )\n",
    "    gs.fit(X,y)\n",
    "    print gs.best_score_\n",
    "    print gs.best_estimator_\n",
    "    return gs"
   ]
  },
  {
   "cell_type": "code",
   "execution_count": 105,
   "metadata": {},
   "outputs": [
    {
     "name": "stdout",
     "output_type": "stream",
     "text": [
      "0.695004410941\n",
      "RandomForestClassifier(bootstrap=True, class_weight=None, criterion='gini',\n",
      "            max_depth=6, max_features='auto', max_leaf_nodes=None,\n",
      "            min_impurity_split=1e-07, min_samples_leaf=1,\n",
      "            min_samples_split=2, min_weight_fraction_leaf=0.0,\n",
      "            n_estimators=181, n_jobs=1, oob_score=False, random_state=None,\n",
      "            verbose=0, warm_start=False)\n"
     ]
    },
    {
     "data": {
      "text/plain": [
       "GridSearchCV(cv=8, error_score='raise',\n",
       "       estimator=RandomForestClassifier(bootstrap=True, class_weight=None, criterion='gini',\n",
       "            max_depth=None, max_features='auto', max_leaf_nodes=None,\n",
       "            min_impurity_split=1e-07, min_samples_leaf=1,\n",
       "            min_samples_split=2, min_weight_fraction_leaf=0.0,\n",
       "            n_estimators=10, n_jobs=1, oob_score=False, random_state=None,\n",
       "            verbose=0, warm_start=False),\n",
       "       fit_params={}, iid=True, n_jobs=1,\n",
       "       param_grid={'n_estimators': [1, 11, 21, 31, 41, 51, 61, 71, 81, 91, 101, 111, 121, 131, 141, 151, 161, 171, 181, 191], 'max_depth': [3, 4, 5, 6, 7, 8]},\n",
       "       pre_dispatch='2*n_jobs', refit=True, scoring='roc_auc', verbose=0)"
      ]
     },
     "execution_count": 105,
     "metadata": {},
     "output_type": "execute_result"
    }
   ],
   "source": [
    "model = RandomForestClassifier()\n",
    "params = {\"n_estimators\":range(1, 200, 10), 'max_depth':[3,4,5,6,7,8]}\n",
    "explore_model(params,model)"
   ]
  },
  {
   "cell_type": "code",
   "execution_count": null,
   "metadata": {
    "collapsed": true
   },
   "outputs": [],
   "source": []
  },
  {
   "cell_type": "code",
   "execution_count": null,
   "metadata": {
    "collapsed": true
   },
   "outputs": [],
   "source": []
  },
  {
   "cell_type": "code",
   "execution_count": null,
   "metadata": {
    "collapsed": true
   },
   "outputs": [],
   "source": []
  }
 ],
 "metadata": {
  "kernelspec": {
   "display_name": "Python 2",
   "language": "python",
   "name": "python2"
  },
  "language_info": {
   "codemirror_mode": {
    "name": "ipython",
    "version": 2
   },
   "file_extension": ".py",
   "mimetype": "text/x-python",
   "name": "python",
   "nbconvert_exporter": "python",
   "pygments_lexer": "ipython2",
   "version": "2.7.13"
  }
 },
 "nbformat": 4,
 "nbformat_minor": 2
}
