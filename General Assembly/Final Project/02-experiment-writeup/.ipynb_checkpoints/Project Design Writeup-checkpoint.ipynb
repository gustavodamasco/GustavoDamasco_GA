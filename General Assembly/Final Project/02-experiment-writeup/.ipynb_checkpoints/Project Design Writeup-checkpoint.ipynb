{
 "cells": [
  {
   "cell_type": "markdown",
   "metadata": {},
   "source": [
    "# Project Problem and Hypothesis"
   ]
  },
  {
   "cell_type": "markdown",
   "metadata": {},
   "source": [
    "### What's the project about? What problem are you solving?"
   ]
  },
  {
   "cell_type": "markdown",
   "metadata": {},
   "source": [
    "    Everyone wants to cultivate better money habits. Over time, our habits become more natural to who we are and how we act making more difficult for us to change them. So, an important part of forging better money habits is not just understanding what you spent but why you spend the way you do.\n",
    "        \n",
    "    Since an important part of cultivating better money habits is to understand the reason we spend our money the way we do and sometimes someone's behavior and habits can be explained through their personality traits, views on life and opinions my hipothesis is: \n",
    "    \n",
    "    \"Can we predict spending habits of a person from his/hers personality traits, views on life and opinions?\" "
   ]
  },
  {
   "cell_type": "markdown",
   "metadata": {},
   "source": [
    "### Where does this seem to reside as a machine learning problem? Are you predicting some continuous number, or predicting a binary value?"
   ]
  },
  {
   "cell_type": "markdown",
   "metadata": {},
   "source": [
    "    As a machine learning problem, my goal is to predict a multi-class value from 1 to 5 (integers 1 2 3 4 5).  \n",
    "    \n",
    "    By analyzing someone's opinion to the following statement \"I save all the money I can\", a 1 is someone who strongly disagrees with the statement and a 5 is someone who strongly agrees. The answer to this question provides us an overview of someone's spending habits."
   ]
  },
  {
   "cell_type": "markdown",
   "metadata": {},
   "source": [
    "### What kind of impact do you think it could have?"
   ]
  },
  {
   "cell_type": "markdown",
   "metadata": {},
   "source": [
    "    The attempt to predict someone's spending habits from their personality traits, views on life and opinions could have an impact on the understanding of consumer behavior. For companies, this information could be relevant to support marketing strategies like price and promotion."
   ]
  },
  {
   "cell_type": "markdown",
   "metadata": {},
   "source": [
    "### What do you think will have the most impact in predicting the value you are interested in solving for?"
   ]
  },
  {
   "cell_type": "markdown",
   "metadata": {},
   "source": [
    "    Since the value I'm trying to predict reflects how likely someone is willing to save their money or not, I think that personality traits, views and opninions related to consumer behavior will have the most impact."
   ]
  },
  {
   "cell_type": "markdown",
   "metadata": {},
   "source": [
    "# Datasets"
   ]
  },
  {
   "cell_type": "markdown",
   "metadata": {},
   "source": [
    "### Description of data set available, at the field level (see table)"
   ]
  },
  {
   "cell_type": "markdown",
   "metadata": {},
   "source": [
    "    The data is from a survey made with 1010 students in 2013. All participants were from Slovakian nationality, aged between 15-30. There are two datasets: one with all the survey questions (columns.csv) and other with the answers (response.csv). For convenience, all the questions were shortened in the response.csv data file, which has 1010 rows and 150 columns (139 integers and 11 categorical).\n",
    "\n",
    "    The variables can be split into the following groups: Music preferences (19 items); Movie preferences (12 items); Hobbies & interests (32 items); Phobias (10 items); Health habits (3 items); Personality traits, views on life, & opinions (57 items); Spending habits (7 items); Demographics (10 items).\n",
    "\n",
    "    Each Item is a statement about that subject and the response has to be given using the Likert Scale or categories defined by the survey. For example: I live a very healthy lifestyle: Strongly disagree 1-2-3-4-5 Strongly agree (integer) / How much time do you spend online?: No time at all - Less than an hour a day - Few hours a day - Most of the day (categorical)\n",
    "\n",
    "    All survey items are listed below:\n",
    "    \n",
    "    MUSIC PREFERENCES\n",
    "\n",
    "    I enjoy listening to music.: Strongly disagree 1-2-3-4-5 Strongly agree (integer)\n",
    "    I prefer.: Slow paced music 1-2-3-4-5 Fast paced music (integer)\n",
    "    Dance, Disco, Funk: Don't enjoy at all 1-2-3-4-5 Enjoy very much (integer)\n",
    "    Folk music: Don't enjoy at all 1-2-3-4-5 Enjoy very much (integer)\n",
    "    Country: Don't enjoy at all 1-2-3-4-5 Enjoy very much (integer)\n",
    "    Classical: Don't enjoy at all 1-2-3-4-5 Enjoy very much (integer)\n",
    "    Musicals: Don't enjoy at all 1-2-3-4-5 Enjoy very much (integer)\n",
    "    Pop: Don't enjoy at all 1-2-3-4-5 Enjoy very much (integer)\n",
    "    Rock: Don't enjoy at all 1-2-3-4-5 Enjoy very much (integer)\n",
    "    Metal, Hard rock: Don't enjoy at all 1-2-3-4-5 Enjoy very much (integer)\n",
    "    Punk: Don't enjoy at all 1-2-3-4-5 Enjoy very much (integer)\n",
    "    Hip hop, Rap: Don't enjoy at all 1-2-3-4-5 Enjoy very much (integer)\n",
    "    Reggae, Ska: Don't enjoy at all 1-2-3-4-5 Enjoy very much (integer)\n",
    "    Swing, Jazz: Don't enjoy at all 1-2-3-4-5 Enjoy very much (integer)\n",
    "    Rock n Roll: Don't enjoy at all 1-2-3-4-5 Enjoy very much (integer)\n",
    "    Alternative music: Don't enjoy at all 1-2-3-4-5 Enjoy very much (integer)\n",
    "    Latin: Don't enjoy at all 1-2-3-4-5 Enjoy very much (integer)\n",
    "    Techno, Trance: Don't enjoy at all 1-2-3-4-5 Enjoy very much (integer)\n",
    "    Opera: Don't enjoy at all 1-2-3-4-5 Enjoy very much (integer)\n",
    "    \n",
    "    MOVIE PREFERENCES\n",
    "\n",
    "    I really enjoy watching movies.: Strongly disagree 1-2-3-4-5 Strongly agree (integer)\n",
    "    Horror movies: Don't enjoy at all 1-2-3-4-5 Enjoy very much (integer)\n",
    "    Thriller movies: Don't enjoy at all 1-2-3-4-5 Enjoy very much (integer)\n",
    "    Comedies: Don't enjoy at all 1-2-3-4-5 Enjoy very much (integer)\n",
    "    Romantic movies: Don't enjoy at all 1-2-3-4-5 Enjoy very much (integer)\n",
    "    Sci-fi movies: Don't enjoy at all 1-2-3-4-5 Enjoy very much (integer)\n",
    "    War movies: Don't enjoy at all 1-2-3-4-5 Enjoy very much (integer)\n",
    "    Tales: Don't enjoy at all 1-2-3-4-5 Enjoy very much (integer)\n",
    "    Cartoons: Don't enjoy at all 1-2-3-4-5 Enjoy very much (integer)\n",
    "    Documentaries: Don't enjoy at all 1-2-3-4-5 Enjoy very much (integer)\n",
    "    Western movies: Don't enjoy at all 1-2-3-4-5 Enjoy very much (integer)\n",
    "    Action movies: Don't enjoy at all 1-2-3-4-5 Enjoy very much (integer)\n",
    "    \n",
    "    HOBBIES & INTERESTS\n",
    "\n",
    "    History: Not interested 1-2-3-4-5 Very interested (integer)\n",
    "    Psychology: Not interested 1-2-3-4-5 Very interested (integer)\n",
    "    Politics: Not interested 1-2-3-4-5 Very interested (integer)\n",
    "    Mathematics: Not interested 1-2-3-4-5 Very interested (integer)\n",
    "    Physics: Not interested 1-2-3-4-5 Very interested (integer)\n",
    "    Internet: Not interested 1-2-3-4-5 Very interested (integer)\n",
    "    PC Software, Hardware: Not interested 1-2-3-4-5 Very interested (integer)\n",
    "    Economy, Management: Not interested 1-2-3-4-5 Very interested (integer)\n",
    "    Biology: Not interested 1-2-3-4-5 Very interested (integer)\n",
    "    Chemistry: Not interested 1-2-3-4-5 Very interested (integer)\n",
    "    Poetry reading: Not interested 1-2-3-4-5 Very interested (integer)\n",
    "    Geography: Not interested 1-2-3-4-5 Very interested (integer)\n",
    "    Foreign languages: Not interested 1-2-3-4-5 Very interested (integer)\n",
    "    Medicine: Not interested 1-2-3-4-5 Very interested (integer)\n",
    "    Law: Not interested 1-2-3-4-5 Very interested (integer)\n",
    "    Cars: Not interested 1-2-3-4-5 Very interested (integer)\n",
    "    Art: Not interested 1-2-3-4-5 Very interested (integer)\n",
    "    Religion: Not interested 1-2-3-4-5 Very interested (integer)\n",
    "    Outdoor activities: Not interested 1-2-3-4-5 Very interested (integer)\n",
    "    Dancing: Not interested 1-2-3-4-5 Very interested (integer)\n",
    "    Playing musical instruments: Not interested 1-2-3-4-5 Very interested (integer)\n",
    "    Poetry writing: Not interested 1-2-3-4-5 Very interested (integer)\n",
    "    Sport and leisure activities: Not interested 1-2-3-4-5 Very interested (integer)\n",
    "    Sport at competitive level: Not interested 1-2-3-4-5 Very interested (integer)\n",
    "    Gardening: Not interested 1-2-3-4-5 Very interested (integer)\n",
    "    Celebrity lifestyle: Not interested 1-2-3-4-5 Very interested (integer)\n",
    "    Shopping: Not interested 1-2-3-4-5 Very interested (integer)\n",
    "    Science and technology: Not interested 1-2-3-4-5 Very interested (integer)\n",
    "    Theatre: Not interested 1-2-3-4-5 Very interested (integer)\n",
    "    Socializing: Not interested 1-2-3-4-5 Very interested (integer)\n",
    "    Adrenaline sports: Not interested 1-2-3-4-5 Very interested (integer)\n",
    "    Pets: Not interested 1-2-3-4-5 Very interested (integer)\n",
    "    \n",
    "    PHOBIAS\n",
    "\n",
    "    Flying: Not afraid at all 1-2-3-4-5 Very afraid of (integer)\n",
    "    Thunder, lightning: Not afraid at all 1-2-3-4-5 Very afraid of (integer)\n",
    "    Darkness: Not afraid at all 1-2-3-4-5 Very afraid of (integer)\n",
    "    Heights: Not afraid at all 1-2-3-4-5 Very afraid of (integer)\n",
    "    Spiders: Not afraid at all 1-2-3-4-5 Very afraid of (integer)\n",
    "    Snakes: Not afraid at all 1-2-3-4-5 Very afraid of (integer)\n",
    "    Rats, mice: Not afraid at all 1-2-3-4-5 Very afraid of (integer)\n",
    "    Ageing: Not afraid at all 1-2-3-4-5 Very afraid of (integer)\n",
    "    Dangerous dogs: Not afraid at all 1-2-3-4-5 Very afraid of (integer)\n",
    "    Public speaking: Not afraid at all 1-2-3-4-5 Very afraid of (integer)\n",
    "    \n",
    "    HEALTH HABITS\n",
    "\n",
    "    Smoking habits: Never smoked - Tried smoking - Former smoker - Current smoker (categorical)\n",
    "    Drinking: Never - Social drinker - Drink a lot (categorical)\n",
    "    I live a very healthy lifestyle.: Strongly disagree 1-2-3-4-5 Strongly agree (integer)\n",
    "    \n",
    "    PERSONALITY TRAITS, VIEWS ON LIFE & OPINIONS\n",
    "\n",
    "    I take notice of what goes on around me.: Strongly disagree 1-2-3-4-5 Strongly agree (integer)\n",
    "    I try to do tasks as soon as possible and not leave them until last minute.: Strongly disagree 1-2-3-4-5 Strongly agree (integer)\n",
    "    I always make a list so I don't forget anything.: Strongly disagree 1-2-3-4-5 Strongly agree (integer)\n",
    "    I often study or work even in my spare time.: Strongly disagree 1-2-3-4-5 Strongly agree (integer)\n",
    "    I look at things from all different angles before I go ahead.: Strongly disagree 1-2-3-4-5 Strongly agree (integer)\n",
    "    I believe that bad people will suffer one day and good people will be rewarded.: Strongly disagree 1-2-3-4-5 Strongly agree (integer)\n",
    "    I am reliable at work and always complete all tasks given to me.: Strongly disagree 1-2-3-4-5 Strongly agree (integer)\n",
    "    I always keep my promises.: Strongly disagree 1-2-3-4-5 Strongly agree (integer)\n",
    "    I can fall for someone very quickly and then completely lose interest.: Strongly disagree 1-2-3-4-5 Strongly agree (integer)\n",
    "    I would rather have lots of friends than lots of money.: Strongly disagree 1-2-3-4-5 Strongly agree (integer)\n",
    "    I always try to be the funniest one.: Strongly disagree 1-2-3-4-5 Strongly agree (integer)\n",
    "    I can be two faced sometimes.: Strongly disagree 1-2-3-4-5 Strongly agree (integer)\n",
    "    I damaged things in the past when angry.: Strongly disagree 1-2-3-4-5 Strongly agree (integer)\n",
    "    I take my time to make decisions.: Strongly disagree 1-2-3-4-5 Strongly agree (integer)\n",
    "    I always try to vote in elections.: Strongly disagree 1-2-3-4-5 Strongly agree (integer)\n",
    "    I often think about and regret the decisions I make.: Strongly disagree 1-2-3-4-5 Strongly agree (integer)\n",
    "    I can tell if people listen to me or not when I talk to them.: Strongly disagree 1-2-3-4-5 Strongly agree (integer)\n",
    "    I am a hypochondriac.: Strongly disagree 1-2-3-4-5 Strongly agree (integer)\n",
    "    I am emphatetic person.: Strongly disagree 1-2-3-4-5 Strongly agree (integer)\n",
    "    I eat because I have to. I don't enjoy food and eat as fast as I can.: Strongly disagree 1-2-3-4-5 Strongly agree (integer)\n",
    "    I try to give as much as I can to other people at Christmas.: Strongly disagree 1-2-3-4-5 Strongly agree (integer)\n",
    "    I don't like seeing animals suffering.: Strongly disagree 1-2-3-4-5 Strongly agree (integer)\n",
    "    I look after things I have borrowed from others.: Strongly disagree 1-2-3-4-5 Strongly agree (integer)\n",
    "    I feel lonely in life.: Strongly disagree 1-2-3-4-5 Strongly agree (integer)\n",
    "    I used to cheat at school.: Strongly disagree 1-2-3-4-5 Strongly agree (integer)\n",
    "    I worry about my health.: Strongly disagree 1-2-3-4-5 Strongly agree (integer)\n",
    "    I wish I could change the past because of the things I have done.: Strongly disagree 1-2-3-4-5 Strongly agree (integer)\n",
    "    I believe in God.: Strongly disagree 1-2-3-4-5 Strongly agree (integer)\n",
    "    I always have good dreams.: Strongly disagree 1-2-3-4-5 Strongly agree (integer)\n",
    "    I always give to charity.: Strongly disagree 1-2-3-4-5 Strongly agree (integer)\n",
    "    I have lots of friends.: Strongly disagree 1-2-3-4-5 Strongly agree (integer)\n",
    "    Timekeeping.: I am often early. - I am always on time. - I am often running late. (categorical)\n",
    "    Do you lie to others?: Never. - Only to avoid hurting someone. - Sometimes. - Everytime it suits me. (categorical)\n",
    "    I am very patient.: Strongly disagree 1-2-3-4-5 Strongly agree (integer)\n",
    "    I can quickly adapt to a new environment.: Strongly disagree 1-2-3-4-5 Strongly agree (integer)\n",
    "    My moods change quickly.: Strongly disagree 1-2-3-4-5 Strongly agree (integer)\n",
    "    I am well mannered and I look after my appearance.: Strongly disagree 1-2-3-4-5 Strongly agree (integer)\n",
    "    I enjoy meeting new people.: Strongly disagree 1-2-3-4-5 Strongly agree (integer)\n",
    "    I always let other people know about my achievements.: Strongly disagree 1-2-3-4-5 Strongly agree (integer)\n",
    "    I think carefully before answering any important letters.: Strongly disagree 1-2-3-4-5 Strongly agree (integer)\n",
    "    I enjoy childrens' company.: Strongly disagree 1-2-3-4-5 Strongly agree (integer)\n",
    "    I am not afraid to give my opinion if I feel strongly about something.: Strongly disagree 1-2-3-4-5 Strongly agree (integer)\n",
    "    I can get angry very easily.: Strongly disagree 1-2-3-4-5 Strongly agree (integer)\n",
    "    I always make sure I connect with the right people.: Strongly disagree 1-2-3-4-5 Strongly agree (integer)\n",
    "    I have to be well prepared before public speaking.: Strongly disagree 1-2-3-4-5 Strongly agree (integer)\n",
    "    I will find a fault in myself if people don't like me.: Strongly disagree 1-2-3-4-5 Strongly agree (integer)\n",
    "    I cry when I feel down or things don't go the right way.: Strongly disagree 1-2-3-4-5 Strongly agree (integer)\n",
    "    I am 100% happy with my life.: Strongly disagree 1-2-3-4-5 Strongly agree (integer)\n",
    "    I am always full of life and energy.: Strongly disagree 1-2-3-4-5 Strongly agree (integer)\n",
    "    I prefer big dangerous dogs to smaller, calmer dogs.: Strongly disagree 1-2-3-4-5 Strongly agree (integer)\n",
    "    I believe all my personality traits are positive.: Strongly disagree 1-2-3-4-5 Strongly agree (integer)\n",
    "    If I find something the doesn't belong to me I will hand it in.: Strongly disagree 1-2-3-4-5 Strongly agree (integer)\n",
    "    I find it very difficult to get up in the morning.: Strongly disagree 1-2-3-4-5 Strongly agree (integer)\n",
    "    I have many different hobbies and interests.: Strongly disagree 1-2-3-4-5 Strongly agree (integer)\n",
    "    I always listen to my parents' advice.: Strongly disagree 1-2-3-4-5 Strongly agree (integer)\n",
    "    I enjoy taking part in surveys.: Strongly disagree 1-2-3-4-5 Strongly agree (integer)\n",
    "    How much time do you spend online?: No time at all - Less than an hour a day - Few hours a day - Most of the day (categorical)\n",
    "    \n",
    "    SPENDING HABITS\n",
    "\n",
    "    I save all the money I can.: Strongly disagree 1-2-3-4-5 Strongly agree (integer)\n",
    "    I enjoy going to large shopping centres.: Strongly disagree 1-2-3-4-5 Strongly agree (integer)\n",
    "    I prefer branded clothing to non branded.: Strongly disagree 1-2-3-4-5 Strongly agree (integer)\n",
    "    I spend a lot of money on partying and socializing.: Strongly disagree 1-2-3-4-5 Strongly agree (integer)\n",
    "    I spend a lot of money on my appearance.: Strongly disagree 1-2-3-4-5 Strongly agree (integer)\n",
    "    I spend a lot of money on gadgets.: Strongly disagree 1-2-3-4-5 Strongly agree (integer)\n",
    "    I will hapilly pay more money for good, quality or healthy food.: Strongly disagree 1-2-3-4-5 Strongly agree (integer)\n",
    "    \n",
    "    DEMOGRAPHICS\n",
    "\n",
    "    Age: (integer)\n",
    "    Height: (integer)\n",
    "    Weight: (integer)\n",
    "    How many siblings do you have?: (integer)\n",
    "    Gender: Female - Male (categorical)\n",
    "    I am: Left handed - Right handed (categorical)\n",
    "    Highest education achieved: Currently a Primary school pupil - Primary school - Secondary school - College/Bachelor degree (categorical)\n",
    "    I am the only child: No - Yes (categorical)\n",
    "    I spent most of my childhood in a: City - village (categorical)\n",
    "    I lived most of my childhood in a: house/bungalow - block of flats (categorical)"
   ]
  },
  {
   "cell_type": "code",
   "execution_count": 27,
   "metadata": {},
   "outputs": [
    {
     "data": {
      "text/html": [
       "<div>\n",
       "<style>\n",
       "    .dataframe thead tr:only-child th {\n",
       "        text-align: right;\n",
       "    }\n",
       "\n",
       "    .dataframe thead th {\n",
       "        text-align: left;\n",
       "    }\n",
       "\n",
       "    .dataframe tbody tr th {\n",
       "        vertical-align: top;\n",
       "    }\n",
       "</style>\n",
       "<table border=\"1\" class=\"dataframe\">\n",
       "  <thead>\n",
       "    <tr style=\"text-align: right;\">\n",
       "      <th></th>\n",
       "      <th>Music</th>\n",
       "      <th>Slow songs or fast songs</th>\n",
       "      <th>Dance</th>\n",
       "      <th>Folk</th>\n",
       "      <th>Country</th>\n",
       "      <th>Classical music</th>\n",
       "      <th>Musical</th>\n",
       "      <th>Pop</th>\n",
       "      <th>Rock</th>\n",
       "      <th>Metal or Hardrock</th>\n",
       "      <th>...</th>\n",
       "      <th>Age</th>\n",
       "      <th>Height</th>\n",
       "      <th>Weight</th>\n",
       "      <th>Number of siblings</th>\n",
       "      <th>Gender</th>\n",
       "      <th>Left - right handed</th>\n",
       "      <th>Education</th>\n",
       "      <th>Only child</th>\n",
       "      <th>Village - town</th>\n",
       "      <th>House - block of flats</th>\n",
       "    </tr>\n",
       "  </thead>\n",
       "  <tbody>\n",
       "    <tr>\n",
       "      <th>0</th>\n",
       "      <td>5.0</td>\n",
       "      <td>3.0</td>\n",
       "      <td>2.0</td>\n",
       "      <td>1.0</td>\n",
       "      <td>2.0</td>\n",
       "      <td>2.0</td>\n",
       "      <td>1.0</td>\n",
       "      <td>5.0</td>\n",
       "      <td>5.0</td>\n",
       "      <td>1.0</td>\n",
       "      <td>...</td>\n",
       "      <td>20.0</td>\n",
       "      <td>163.0</td>\n",
       "      <td>48.0</td>\n",
       "      <td>1.0</td>\n",
       "      <td>female</td>\n",
       "      <td>right handed</td>\n",
       "      <td>college/bachelor degree</td>\n",
       "      <td>no</td>\n",
       "      <td>village</td>\n",
       "      <td>block of flats</td>\n",
       "    </tr>\n",
       "    <tr>\n",
       "      <th>1</th>\n",
       "      <td>4.0</td>\n",
       "      <td>4.0</td>\n",
       "      <td>2.0</td>\n",
       "      <td>1.0</td>\n",
       "      <td>1.0</td>\n",
       "      <td>1.0</td>\n",
       "      <td>2.0</td>\n",
       "      <td>3.0</td>\n",
       "      <td>5.0</td>\n",
       "      <td>4.0</td>\n",
       "      <td>...</td>\n",
       "      <td>19.0</td>\n",
       "      <td>163.0</td>\n",
       "      <td>58.0</td>\n",
       "      <td>2.0</td>\n",
       "      <td>female</td>\n",
       "      <td>right handed</td>\n",
       "      <td>college/bachelor degree</td>\n",
       "      <td>no</td>\n",
       "      <td>city</td>\n",
       "      <td>block of flats</td>\n",
       "    </tr>\n",
       "    <tr>\n",
       "      <th>2</th>\n",
       "      <td>5.0</td>\n",
       "      <td>5.0</td>\n",
       "      <td>2.0</td>\n",
       "      <td>2.0</td>\n",
       "      <td>3.0</td>\n",
       "      <td>4.0</td>\n",
       "      <td>5.0</td>\n",
       "      <td>3.0</td>\n",
       "      <td>5.0</td>\n",
       "      <td>3.0</td>\n",
       "      <td>...</td>\n",
       "      <td>20.0</td>\n",
       "      <td>176.0</td>\n",
       "      <td>67.0</td>\n",
       "      <td>2.0</td>\n",
       "      <td>female</td>\n",
       "      <td>right handed</td>\n",
       "      <td>secondary school</td>\n",
       "      <td>no</td>\n",
       "      <td>city</td>\n",
       "      <td>block of flats</td>\n",
       "    </tr>\n",
       "  </tbody>\n",
       "</table>\n",
       "<p>3 rows × 150 columns</p>\n",
       "</div>"
      ],
      "text/plain": [
       "   Music  Slow songs or fast songs  Dance  Folk  Country  Classical music  \\\n",
       "0    5.0                       3.0    2.0   1.0      2.0              2.0   \n",
       "1    4.0                       4.0    2.0   1.0      1.0              1.0   \n",
       "2    5.0                       5.0    2.0   2.0      3.0              4.0   \n",
       "\n",
       "   Musical  Pop  Rock  Metal or Hardrock           ...             Age  \\\n",
       "0      1.0  5.0   5.0                1.0           ...            20.0   \n",
       "1      2.0  3.0   5.0                4.0           ...            19.0   \n",
       "2      5.0  3.0   5.0                3.0           ...            20.0   \n",
       "\n",
       "   Height  Weight  Number of siblings  Gender  Left - right handed  \\\n",
       "0   163.0    48.0                 1.0  female         right handed   \n",
       "1   163.0    58.0                 2.0  female         right handed   \n",
       "2   176.0    67.0                 2.0  female         right handed   \n",
       "\n",
       "                 Education  Only child  Village - town  House - block of flats  \n",
       "0  college/bachelor degree          no         village          block of flats  \n",
       "1  college/bachelor degree          no            city          block of flats  \n",
       "2         secondary school          no            city          block of flats  \n",
       "\n",
       "[3 rows x 150 columns]"
      ]
     },
     "execution_count": 27,
     "metadata": {},
     "output_type": "execute_result"
    }
   ],
   "source": [
    "import pandas as pd\n",
    "\n",
    "df = pd.read_csv(\"/Users/Gustavodamasco/Desktop/Datasets/Spending_habits/Responses.csv\")\n",
    "\n",
    "df.head(3)"
   ]
  },
  {
   "cell_type": "markdown",
   "metadata": {},
   "source": [
    "    For the purpose of the project I created a data frame with only the PERSONALITY TRAITS, VIEWS ON LIFE & OPINIONS Items (my variables) and the SPENDING HABITS first Item (my target)"
   ]
  },
  {
   "cell_type": "code",
   "execution_count": 28,
   "metadata": {},
   "outputs": [
    {
     "data": {
      "text/html": [
       "<div>\n",
       "<style>\n",
       "    .dataframe thead tr:only-child th {\n",
       "        text-align: right;\n",
       "    }\n",
       "\n",
       "    .dataframe thead th {\n",
       "        text-align: left;\n",
       "    }\n",
       "\n",
       "    .dataframe tbody tr th {\n",
       "        vertical-align: top;\n",
       "    }\n",
       "</style>\n",
       "<table border=\"1\" class=\"dataframe\">\n",
       "  <thead>\n",
       "    <tr style=\"text-align: right;\">\n",
       "      <th></th>\n",
       "      <th>Daily events</th>\n",
       "      <th>Prioritising workload</th>\n",
       "      <th>Writing notes</th>\n",
       "      <th>Workaholism</th>\n",
       "      <th>Thinking ahead</th>\n",
       "      <th>Final judgement</th>\n",
       "      <th>Reliability</th>\n",
       "      <th>Keeping promises</th>\n",
       "      <th>Loss of interest</th>\n",
       "      <th>Friends versus money</th>\n",
       "      <th>...</th>\n",
       "      <th>Energy levels</th>\n",
       "      <th>Small - big dogs</th>\n",
       "      <th>Personality</th>\n",
       "      <th>Finding lost valuables</th>\n",
       "      <th>Getting up</th>\n",
       "      <th>Interests or hobbies</th>\n",
       "      <th>Parents' advice</th>\n",
       "      <th>Questionnaires or polls</th>\n",
       "      <th>Internet usage</th>\n",
       "      <th>Finances</th>\n",
       "    </tr>\n",
       "  </thead>\n",
       "  <tbody>\n",
       "    <tr>\n",
       "      <th>0</th>\n",
       "      <td>2.0</td>\n",
       "      <td>2.0</td>\n",
       "      <td>5.0</td>\n",
       "      <td>4.0</td>\n",
       "      <td>2.0</td>\n",
       "      <td>5.0</td>\n",
       "      <td>4.0</td>\n",
       "      <td>4.0</td>\n",
       "      <td>1.0</td>\n",
       "      <td>3.0</td>\n",
       "      <td>...</td>\n",
       "      <td>5.0</td>\n",
       "      <td>1.0</td>\n",
       "      <td>4.0</td>\n",
       "      <td>3.0</td>\n",
       "      <td>2.0</td>\n",
       "      <td>3.0</td>\n",
       "      <td>4.0</td>\n",
       "      <td>3.0</td>\n",
       "      <td>few hours a day</td>\n",
       "      <td>3.0</td>\n",
       "    </tr>\n",
       "    <tr>\n",
       "      <th>1</th>\n",
       "      <td>3.0</td>\n",
       "      <td>2.0</td>\n",
       "      <td>4.0</td>\n",
       "      <td>5.0</td>\n",
       "      <td>4.0</td>\n",
       "      <td>1.0</td>\n",
       "      <td>4.0</td>\n",
       "      <td>4.0</td>\n",
       "      <td>3.0</td>\n",
       "      <td>4.0</td>\n",
       "      <td>...</td>\n",
       "      <td>3.0</td>\n",
       "      <td>5.0</td>\n",
       "      <td>3.0</td>\n",
       "      <td>4.0</td>\n",
       "      <td>5.0</td>\n",
       "      <td>3.0</td>\n",
       "      <td>2.0</td>\n",
       "      <td>3.0</td>\n",
       "      <td>few hours a day</td>\n",
       "      <td>3.0</td>\n",
       "    </tr>\n",
       "    <tr>\n",
       "      <th>2</th>\n",
       "      <td>1.0</td>\n",
       "      <td>2.0</td>\n",
       "      <td>5.0</td>\n",
       "      <td>3.0</td>\n",
       "      <td>5.0</td>\n",
       "      <td>3.0</td>\n",
       "      <td>4.0</td>\n",
       "      <td>5.0</td>\n",
       "      <td>1.0</td>\n",
       "      <td>5.0</td>\n",
       "      <td>...</td>\n",
       "      <td>4.0</td>\n",
       "      <td>3.0</td>\n",
       "      <td>3.0</td>\n",
       "      <td>3.0</td>\n",
       "      <td>4.0</td>\n",
       "      <td>5.0</td>\n",
       "      <td>3.0</td>\n",
       "      <td>1.0</td>\n",
       "      <td>few hours a day</td>\n",
       "      <td>2.0</td>\n",
       "    </tr>\n",
       "  </tbody>\n",
       "</table>\n",
       "<p>3 rows × 58 columns</p>\n",
       "</div>"
      ],
      "text/plain": [
       "   Daily events  Prioritising workload  Writing notes  Workaholism  \\\n",
       "0           2.0                    2.0            5.0          4.0   \n",
       "1           3.0                    2.0            4.0          5.0   \n",
       "2           1.0                    2.0            5.0          3.0   \n",
       "\n",
       "   Thinking ahead  Final judgement  Reliability  Keeping promises  \\\n",
       "0             2.0              5.0          4.0               4.0   \n",
       "1             4.0              1.0          4.0               4.0   \n",
       "2             5.0              3.0          4.0               5.0   \n",
       "\n",
       "   Loss of interest  Friends versus money    ...     Energy levels  \\\n",
       "0               1.0                   3.0    ...               5.0   \n",
       "1               3.0                   4.0    ...               3.0   \n",
       "2               1.0                   5.0    ...               4.0   \n",
       "\n",
       "   Small - big dogs  Personality  Finding lost valuables  Getting up  \\\n",
       "0               1.0          4.0                     3.0         2.0   \n",
       "1               5.0          3.0                     4.0         5.0   \n",
       "2               3.0          3.0                     3.0         4.0   \n",
       "\n",
       "   Interests or hobbies  Parents' advice  Questionnaires or polls  \\\n",
       "0                   3.0              4.0                      3.0   \n",
       "1                   3.0              2.0                      3.0   \n",
       "2                   5.0              3.0                      1.0   \n",
       "\n",
       "    Internet usage  Finances  \n",
       "0  few hours a day       3.0  \n",
       "1  few hours a day       3.0  \n",
       "2  few hours a day       2.0  \n",
       "\n",
       "[3 rows x 58 columns]"
      ]
     },
     "execution_count": 28,
     "metadata": {},
     "output_type": "execute_result"
    }
   ],
   "source": [
    "df_personality = pd.DataFrame(df.iloc[:,76:133])\n",
    "\n",
    "df_spending_habits = pd.DataFrame(df.iloc[:,133])\n",
    "\n",
    "df_project = df_personality.join(df_spending_habits)\n",
    "\n",
    "df_project.head(3)"
   ]
  },
  {
   "cell_type": "markdown",
   "metadata": {},
   "source": [
    "# Domain knowledge"
   ]
  },
  {
   "cell_type": "markdown",
   "metadata": {},
   "source": [
    "### What experience do you already have around this area?"
   ]
  },
  {
   "cell_type": "markdown",
   "metadata": {},
   "source": [
    "    As a marketing consultant, I worked in similar marketing research projects that had the same structure as this survey (a lot of questions and Likert Scale answers).  "
   ]
  },
  {
   "cell_type": "markdown",
   "metadata": {},
   "source": [
    "### Does it relate or help inform the project in any way?"
   ]
  },
  {
   "cell_type": "markdown",
   "metadata": {},
   "source": [
    "        I'm familiar with how this data would be analyzed and presented using other programs like Microsoft Excel, so maybe that can give me some insights into the project. "
   ]
  },
  {
   "cell_type": "markdown",
   "metadata": {},
   "source": [
    "### What other research efforts exist?"
   ]
  },
  {
   "cell_type": "markdown",
   "metadata": {},
   "source": [
    "        With a quick google search is possible to find an enormous amount of studies regarding spending habits and the psychology of money, especially about how the new generation is spending their money. So, those other research efforts that exist can give insights during the project."
   ]
  },
  {
   "cell_type": "markdown",
   "metadata": {},
   "source": [
    "# Project Concerns"
   ]
  },
  {
   "cell_type": "markdown",
   "metadata": {},
   "source": [
    "### What questions do you have about your project? What are you not sure you quite yet understand? (The more honest you are about this, the easier your instructors can help)."
   ]
  },
  {
   "cell_type": "markdown",
   "metadata": {},
   "source": [
    "    I have questions about what to do with the missing data in my dataset and what are the best evaluation metrics to my model regarding my project objectives."
   ]
  },
  {
   "cell_type": "markdown",
   "metadata": {},
   "source": [
    "### What are the assumptions and caveats to the problem?"
   ]
  },
  {
   "cell_type": "markdown",
   "metadata": {},
   "source": [
    "    It is already implied about the observations in my dataset the fact that I'm using data from a research conducted in a country with a different culture compared to the american, so my results and conclusions from this data may differ and not be applicable to the young people in the US or other countris. Also, my sample size may not be representative of the whole number of young people that exists in Slovakia."
   ]
  },
  {
   "cell_type": "markdown",
   "metadata": {},
   "source": [
    "# Outcomes"
   ]
  },
  {
   "cell_type": "markdown",
   "metadata": {},
   "source": [
    "        I expect the outcome of this project to be a model that best represents what I'm trying to predict. From all my variables I expect that at least 10 or more are correlated to my target and can help the understanding of why someone has a specific spending habit."
   ]
  },
  {
   "cell_type": "code",
   "execution_count": null,
   "metadata": {
    "collapsed": true
   },
   "outputs": [],
   "source": []
  }
 ],
 "metadata": {
  "kernelspec": {
   "display_name": "Python 2",
   "language": "python",
   "name": "python2"
  },
  "language_info": {
   "codemirror_mode": {
    "name": "ipython",
    "version": 2
   },
   "file_extension": ".py",
   "mimetype": "text/x-python",
   "name": "python",
   "nbconvert_exporter": "python",
   "pygments_lexer": "ipython2",
   "version": "2.7.13"
  }
 },
 "nbformat": 4,
 "nbformat_minor": 2
}
